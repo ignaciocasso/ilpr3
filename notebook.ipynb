{
 "cells": [
  {
   "cell_type": "markdown",
   "metadata": {},
   "source": [
    "# Ingeniería Lingüística - Práctica 3"
   ]
  },
  {
   "cell_type": "markdown",
   "metadata": {},
   "source": [
    "Juan Antonio Carrillo Segura  \n",
    "Ignacio Casso San Román  \n",
    "Diego Pérez Sastre"
   ]
  },
  {
   "cell_type": "markdown",
   "metadata": {},
   "source": [
    "## Introducción (TODO)"
   ]
  },
  {
   "cell_type": "markdown",
   "metadata": {},
   "source": [
    "En esta memoria de presenta un sistema de extracción de información a partir de un conjunto de recetas de cocina en formato de texto. ..."
   ]
  },
  {
   "cell_type": "markdown",
   "metadata": {},
   "source": [
    "En esta práctica se pide la construcción de un sistema de extracción de datos, parcialmente automático, a partir de textos clasificados temáticamente … En la presente memoria se detallan los pasos seguidos para la construcción del sistema y se exponen y discuten los resultados …"
   ]
  },
  {
   "cell_type": "markdown",
   "metadata": {},
   "source": [
    "... de acuerdo a las limitaciones ... intercalando código"
   ]
  },
  {
   "cell_type": "markdown",
   "metadata": {},
   "source": [
    "El resto de la memoria está estructurada de la siguiente manera:\n",
    "\n",
    "- En la sección 1, se dan más detalles del dominio, escenarios y fuentes de información propuestos.\n",
    "\n",
    "- En la sección 2, se realiza un análisis detallado de las dimensiones del dominio\n",
    "\n",
    "- En la sección 3, se estudian las preguntas que se le pueden hacer al sistema\n",
    "\n",
    "- En la sección 4, se enseñan las reglas ...\n",
    "\n",
    "- Primero, se ha seleccionado un dominio y escenarios apropiados, así como una fuente de información de la que extraer los datos. Este paso se detalla en la sección 1\n",
    "\n",
    "- Después"
   ]
  },
  {
   "cell_type": "markdown",
   "metadata": {},
   "source": [
    "## Dominio, escenarios, y fuentes de información (TODO)"
   ]
  },
  {
   "cell_type": "markdown",
   "metadata": {},
   "source": [
    "Como se ha adelantado en la introducción, nuestro sistema de extracción de conocimiento está basado en las recetas de cocina. En particular, hemos definido el siguiente escenario hipotético para guiar ... :\n",
    "\n",
    "Se parte de un conjunto de recetas de cocina, en formato de texto y con una estructura determinada para facilitar ..."
   ]
  },
  {
   "cell_type": "markdown",
   "metadata": {},
   "source": [
    "Como dominio de información hemos seleccionado el de recetas de cocina. Hemos planteado los dos escenarios siguientes en los que el usuario necesita extraer información de recetas:"
   ]
  },
  {
   "cell_type": "markdown",
   "metadata": {},
   "source": [
    "**TODO**: Plantear escenarios 1 y 2 _(ya los hago yo cuando tengamos claro lo que es un escenario y si hay que hacer ésto, no es complicado y no bloquea nada --ignacio)_\n",
    "\n",
    "**Nota:** no estoy seguro de lo que es un escenario, pero creo que no es lo mismo que una fuente de información, es decir, el texto con el que trabajamos (véase transparencia nº 3), si no la situación en la que es necesaria extraer conocimiento sin más. En cualquier caso, es terminología y se puede aclarar más tarde, no afecta al resto de la práctica.\n",
    "\n",
    "**Nota:** ¿Dijo el profesor que había que plantear dos escenarios, o eso lo hemos sacado del ejercicio de las transparencias? Ni en el enunciado del moodle de hace años ni en el enunciado de Slack dice nada de escenarios"
   ]
  },
  {
   "cell_type": "markdown",
   "metadata": {},
   "source": [
    "Como fuentes de información hemos seleccionado las dos recetas que aparecen a continuación. Una será usada a lo largo de la práctica para construir el sistema de extracción de datos, y la otra para validarlo al final. Es importante notar que las fuentes de información se tratan independientemente, es decir, en cada caso la fuente de información consistirá en un único texto, y en ningún caso la información estará distribuida a lo largo de una colección de recursos, indexados o no."
   ]
  },
  {
   "cell_type": "markdown",
   "metadata": {},
   "source": [
    "### Fuentes de información"
   ]
  },
  {
   "cell_type": "markdown",
   "metadata": {},
   "source": [
    "#### Texto 1\n",
    "\n",
    "Lamb Steaks\n",
    "Prep: 5 min, Cook: 20 min.\n",
    "2 tsp olive oil\n",
    "50 g onion, chopped\n",
    "1/2 tsp marjoram, or 1 tsp fresh, minced\n",
    "710 ml canned crushed tomatoes\n",
    "70 g frozen artichoke hearts, thawed\n",
    "4 (680 g) 6 ounce lamb shoulder steaks\n",
    "2 cloves garlic, crushed\n",
    "\n",
    "Heat oil in a heavy non-reactive saucepan over medium heat. Sauté onion 5 minutes, stirring occasionally, or until onion turns golden. Stir in next 3 ingredients. Simmer 15-20 minutes, stirring occasionally, or until sauce thickens. Remove from heat and keep warm. Turn on broiler. Rub steaks with garlic, and salt and pepper to taste. Arrange steaks on a broiler pan. Broil 4 inches from heat source 3-4 minutes\n",
    "per side or until well browned. Serve sauce over lamb steaks.\n",
    "\n",
    "Per serving: calories 407, fat 16.8g, 37% calories from fat, cholesterol 111mg, protein 37.8g, carbohydrates 27.2g, fiber 10.3g, sodium 475mg."
   ]
  },
  {
   "cell_type": "markdown",
   "metadata": {},
   "source": [
    "#### Texto 2\n",
    "\n",
    "**Todo:** Textos 1 y 2"
   ]
  },
  {
   "cell_type": "markdown",
   "metadata": {},
   "source": [
    "## Análisis de Dimensiones ##"
   ]
  },
  {
   "cell_type": "markdown",
   "metadata": {},
   "source": [
    "Para obtener las dimensiones del dominio, estudiamos tres puntos: la fuente de información y los datos que pueden ser consultados en ella; los datos que son relevantes para el usuario, y el nuestro conocimiento previo del dominio."
   ]
  },
  {
   "cell_type": "markdown",
   "metadata": {},
   "source": [
    "### Dimensiones obtenidas de la fuente de información ###"
   ]
  },
  {
   "cell_type": "markdown",
   "metadata": {},
   "source": [
    "Una forma de obtener las dimensiones del dominio es estudiar las fuentes de información, ____ en nuestro caso, y preguntarse qué datos son comunes a todos los textos de esa categoría y pueden ser consultados por el usuario.\n",
    "\n",
    "Así, obtenemos los siguientes conceptos característicos de nuestro dominio, que están presentes en todos los textos con los que trabajamos:\n",
    "\n",
    "Ingredientes.\n",
    "Tiempo\n",
    "Pasos\n",
    "Información nutritiva\n",
    "\n",
    "TODO: Algún comentario para cada dimensión, como posibles valores, relaciones, por qué es importante, etc. (ya lo hago yo cuando fijemos un dominio --ignacio)\n",
    "\n",
    "TODO: hablar en algún sitio de dominio estático?"
   ]
  },
  {
   "cell_type": "markdown",
   "metadata": {},
   "source": [
    "### Dimensiones obtenidas de los escenarios propuestos ###"
   ]
  },
  {
   "cell_type": "markdown",
   "metadata": {},
   "source": [
    "Nota: O de las necesidades del usuario, si escenario no significa lo que creo que significa\n",
    "\n",
    "Otra forma de obtener dimensiones es estudiar los conceptos relevantes para el usuario en los escenarios propuestos. Algunos nuevos conceptos que aparecen son:\n",
    "\n",
    "Tipo de comida: Es claramente relevante para el usuario, y aunque no aparece explícitamente en las recetas, se puede inferir a partir de los ingredientes\n",
    "Dificultad\n",
    "Precio\n",
    "\n",
    "TODO: Algún comentario para cada dimensión, como posibles valores, relaciones, por qué es importante, etc. (ya lo hago yo cuando fijemos un dominio --ignacio)"
   ]
  },
  {
   "cell_type": "markdown",
   "metadata": {},
   "source": [
    "### Dimensiones obtenidas del conocimiento previo del dominio ###"
   ]
  },
  {
   "cell_type": "markdown",
   "metadata": {},
   "source": [
    "Por último, podemos obtener dimensiones ad-hoc a partir de nuestro conocimiento a priori del dominio, por ejemplo:\n",
    "Origen geográfico: Aunque no sea relevante para el usuario en los escenarios propuestos, ni aparezca explícitamente en las recetas que manejamos, sabemos que es un concepto característico de las recetas que puede ser considerado una dimensión.\n",
    "Temporada\n",
    "...\n",
    "\n",
    "\n",
    "TODO: Algún comentario para cada dimensión, como posibles valores, relaciones, por qué es importante, etc. (ya lo hago yo cuando fijemos un dominio --ignacio)"
   ]
  },
  {
   "cell_type": "markdown",
   "metadata": {},
   "source": [
    "### Dimensiones, conceptos y relaciones ###"
   ]
  },
  {
   "cell_type": "markdown",
   "metadata": {},
   "source": [
    "Agrupamos los conceptos y sus relaciones que hemos obtenido del estudio de la fuente de información, en las siguientes dimensiones, que expresamos en forma de ___:\n",
    "\n",
    "TODO: Representar las dimensiones y sus relaciones mediante un grafo? ¿Listarlas? No sé cual es la forma esperada de representarlas, ni si se pide hablar de las relaciones siquiera. (ya haré yo ésto cuando fijemos un dominio y sepamos qué hay que hacer --ignacio)\n",
    "\n",
    "Ejemplos de relaciones:\n",
    "Precio depende de ingredientes\n",
    "Tipo de comida depende de ingredientes\n",
    "Dificultad depende de los pasos de la receta\n",
    "..."
   ]
  },
  {
   "cell_type": "markdown",
   "metadata": {},
   "source": [
    "### Tabla de valores para las dimensiones ###"
   ]
  },
  {
   "cell_type": "markdown",
   "metadata": {},
   "source": [
    "TODO: Tablas como las de las transparencias 28 y 29 (ya lo haré yo cuando fijemos un dominio --ignacio)"
   ]
  },
  {
   "cell_type": "markdown",
   "metadata": {},
   "source": [
    "## Selección del conjunto de preguntas ##"
   ]
  },
  {
   "cell_type": "markdown",
   "metadata": {},
   "source": [
    "### Planteamiento de las preguntas ###"
   ]
  },
  {
   "cell_type": "markdown",
   "metadata": {},
   "source": [
    "Planteamos las siguientes preguntas que esperamos que nuestro sistema de extracción de conocimiento sea capaz de resolver:\n",
    "1: ¿Qué ingredientes hacen falta para la receta? (Y una preguntas de este tipo por cada dimensión)\n",
    "2: ¿Contiene la receta carne?\n",
    "3: ¿Es difícil la receta?\n",
    "4: ¿Qué vinos se recomiendan para acompañar la receta? (Ejemplo sacado de las transparencias)\n",
    "… TODO: completar (ya lo haré yo cuando sepamos cómo se van a procesar estas preguntas después y cuando fijemos el dominio)\n",
    "\n",
    "Duda: ¿Es ésto lo que hay que hacer en esta sección?"
   ]
  },
  {
   "cell_type": "markdown",
   "metadata": {},
   "source": [
    "### Identificación de preguntas que satisfacen dimensiones ###"
   ]
  },
  {
   "cell_type": "markdown",
   "metadata": {},
   "source": [
    "Nota: Punto 5 del enunciado de Slack. ¿A qué se refiere? ¿A los siguientes puntos de las transparencias?\n",
    "Asegurarse que la respuesta a las preguntas está en la tabla de dimensiones y sus valores\n",
    "Si hay alguna que no está complementar\n",
    "Y si se refiere a eso, ¿qué significa lo de complementar exactamente? Si alguien lo sabe podemos fabricar a propósito un caso en el que suceda. Pero yo no tengo ni idea, y probablemente no tenga más sentido que el resto de la asignatura, así que podemos dejarlo así\n",
    "\n",
    "Estudiamos a continuación las preguntas planteadas una a una para comprobar que satisfacen las dimensiones, es decir, que las dimensiones o conceptos de los que tratan las preguntas son un subconjunto de los que hemos obtenido previamente en la fase de análisis de dimensiones, y que por lo tanto las respuestas a esas preguntas pueden encontrarse en la tabla de dimensiones y valores.\n",
    "\n",
    "Pregunta nº 1: ¿Qué ingredientes hacen falta para la receta?\n",
    "\n",
    "En este caso se pregunta directamente por una de las dimensiones que consideramos en nuestro dominio, así que claramente es una pregunta válida\n",
    "\n",
    "Pregunta nº  2: ¿Contiene la receta carne?\n",
    "Esta pregunta no satisface las dimensiones, haría falta conocimiento explícito de que ingredientes son carne y cuáles no. En este caso habría que complementar.\n",
    "\n",
    "Duda: ¿Qué es eso de complementar? ¿Añadir la dimensión grupos alimenticios?\n",
    "\n",
    "Pregunta nº 3: Sí\n",
    "\n",
    "Pregunta nº 4: No\n",
    "\n",
    "Duda: ¿Es ésto lo que se pide?\n",
    "\n",
    "TODO: completar (ya lo hago yo, cuando se resuelva el TODO del apartado anterior, y cuándo esté claro qué hacer --ignacio)"
   ]
  },
  {
   "cell_type": "markdown",
   "metadata": {},
   "source": [
    "### Parafrasing de preguntas ###"
   ]
  },
  {
   "cell_type": "markdown",
   "metadata": {},
   "source": [
    "En una sistema real, donde las preguntas son formuladas en lenguaje natural, necesariamente los usuarios plantearán las preguntas de diferentes maneras, y ese sistema necesitará poder identificarlas todas. Para ello el sistema necesitará definir reglas, que dada una pregunta en lenguaje natural, permitan seleccionar la pregunta conceptual a la que corresponde en nuestro conjunto de preguntas tratables. El primer paso para hacerlo es, para cada pregunta, definir un conjunto de paráfrasis o formas alternativas de la pregunta, a partir de las cuales se puedan extrapolar las reglas buscadas. En esta sección proponemos algunas de esas paráfrasis para algunas de nuestras preguntas propuestas. Las reglas para identificarlas todas ellas como una misma pregunta se muestran en la sección ??"
   ]
  },
  {
   "cell_type": "markdown",
   "metadata": {},
   "source": []
  },
  {
   "cell_type": "markdown",
   "metadata": {},
   "source": [
    "\n",
    "Pregunta: ¿Contiene la receta carne?\n",
    "Posibles paráfrasis:\n",
    "¿Hay carne en la receta?\n",
    "¿Es la receta vegetariana?\n",
    "…\n",
    "\n",
    "Duda: ¿Es ésto lo que se pide?\n",
    "\n",
    "TODO: Completar (ya lo haré yo cuando sepamos qué hay que hacer y cómo se van a procesar estas paráfrasis alternativas --ignacio)"
   ]
  },
  {
   "cell_type": "markdown",
   "metadata": {},
   "source": [
    "Caso general: tabla que relaciona distintas paráfrasis la pregunta conceptual. Mejorarlo con un sistema de sugerencia de preguntas, basado en número de palabras en común, o en ??\n",
    "\n",
    "Para un número pequeño de preguntas, extraer reglas. Sólo como ejemplo, lo que se nos ocurra"
   ]
  },
  {
   "cell_type": "markdown",
   "metadata": {},
   "source": [
    "## Procesamiento de las preguntas"
   ]
  },
  {
   "cell_type": "markdown",
   "metadata": {},
   "source": [
    "Ya definidos el conjunto de preguntas que deseamos poder responder y las fuentes de información a partir de las cuales obtener las respuestas, nuestro siguiente paso será encontrar un método que nos permitan responder a las preguntas automáticamente."
   ]
  },
  {
   "cell_type": "markdown",
   "metadata": {},
   "source": [
    "En el caso general, lo que se necesita es construir un espacio de información a partir de las fuentes de información, siguiendo alguno de los modelos y representaciones propuestos en la literatura, representar la pregunta de acuerdo a ese modelo o representación, y hacer matching de ambos para encontrar la respuesta. En nuestro caso, habiendo limitado el conjunto de preguntas tratables por nuestro sistema, lo que haremos será más sencillo. Por un lado, definimos reglas para identificar una pregunta del usuario expresada en lenguaje natural como una de las preguntas tratables de nuestro conjunto. Por el otro, definiremos reglas para obtener la respuesta a cada una de nuestras preguntas tratables a partir de las fuentes de información."
   ]
  },
  {
   "cell_type": "markdown",
   "metadata": {},
   "source": [
    "En esta sección se detallan e implementan algunas las reglas para algunas de las preguntas, aunque por limitaciones obvias de tiempo y espacio no es posible tratarlas todas."
   ]
  },
  {
   "cell_type": "markdown",
   "metadata": {},
   "source": [
    "### Identificación de las preguntas"
   ]
  },
  {
   "cell_type": "markdown",
   "metadata": {},
   "source": [
    "En esta sección se detallan las reglas para identificar una pregunta en lenguaje natural como una pregunta conceptual tratable por nuestro sistema. Ésta es un tarea complicada en la que se requiere mucho esfuerzo y estudio detallado para llevarla a cabo con precisión, debido al número en principio no acotado de diferentes formas de formular las preguntas. Por ello sólo se llevará a cabo en nuestro sistema para un subconjunto limitado de nuestras preguntas, sólo lo del suficiente tamaño y con la variedad suficiente como para representar las distintas ideas y técnicas que se pueden utilizar para resolver el problema. A continuación se muestran las reglas para ese subconjunto de preguntas, y se expone cómo tratamos el resto de preguntas."
   ]
  },
  {
   "cell_type": "markdown",
   "metadata": {},
   "source": [
    "#### Pregunta N1: ¿...?"
   ]
  },
  {
   "cell_type": "markdown",
   "metadata": {},
   "source": []
  },
  {
   "cell_type": "markdown",
   "metadata": {},
   "source": [
    "#### Pregunta N2: ¿...?"
   ]
  },
  {
   "cell_type": "markdown",
   "metadata": {},
   "source": []
  },
  {
   "cell_type": "markdown",
   "metadata": {},
   "source": [
    "#### Pregunta N3: ¿...?"
   ]
  },
  {
   "cell_type": "markdown",
   "metadata": {},
   "source": []
  },
  {
   "cell_type": "markdown",
   "metadata": {},
   "source": [
    "#### Resto de preguntas"
   ]
  },
  {
   "cell_type": "markdown",
   "metadata": {},
   "source": [
    "Para el resto de preguntas, sugerimos el siguiente método."
   ]
  },
  {
   "cell_type": "markdown",
   "metadata": {},
   "source": [
    "Primero, implementaremos en nuestro sistema una asociación directa entre las paráfrasis de una pregunta que hemos propuesto en la sección ?? y dicha pregunta. Nótose que a pesar de su simplicidad, éste es un método completamente válido y que puede dar lugar a buenos resultados: en vez de inferir reglas generales para identificar un conjunto de preguntas como la misma, simplemente definir explicitamente ese conjunto. Aunque en principio las distintas formas de plantear una misma pregunta son practicamente ilimitadas, en la práctica y con usuarios reales probablemente no pasen de pocas decenas. Es por lo tanto factible realizar un estudio detallado de las distintas formas _realistas_ de definir la pregunta y guardar una tabla que las asocie con la pregunta conceptual en nuestro sistema. También es posible combinar ambos métodos, definiendo primero reglas generales, y tras evaluarlas definiendo reglas particulares y específicas para los casos en los que han resultado ser imprecisas. Eso es precisamente lo que hacemos para la paráfrasis incorrectamente clasificada del apartado anterior (**borrar si nos salen todas las reglas perfectas, o crear artificialmente la situación**). A continuación implementamos la tabla para nuestras preguntas y nuestras paráfrasis:"
   ]
  },
  {
   "cell_type": "code",
   "execution_count": null,
   "metadata": {},
   "outputs": [],
   "source": [
    "table = []\n",
    "\n",
    "# write table\n",
    "\n",
    "# write rule that just reads table"
   ]
  },
  {
   "cell_type": "markdown",
   "metadata": {},
   "source": [
    "Ejemplo:"
   ]
  },
  {
   "cell_type": "code",
   "execution_count": 6,
   "metadata": {},
   "outputs": [],
   "source": [
    "# Ejemplo"
   ]
  },
  {
   "cell_type": "markdown",
   "metadata": {},
   "source": [
    "Además de esto, añadimos un sistema de sugerencias _naive_, en el que si una pregunta no está en la tabla o no es clasificada siguiendo alguna de las reglas, se le sugiere al usuario a qué pregunta o preguntas podría corresponder. En el caso de que el usuario indique que en efecto se refería a una de las preguntas sugeridas, la nueva paráfrasis que ha usado el usuario se añade a la tabla anterior. De esta forma nuestro sistema aprende con el tiempo a medida que los usuarios lo utilizan."
   ]
  },
  {
   "cell_type": "markdown",
   "metadata": {},
   "source": [
    "El algoritmo de sugerencias que proponemos es muy sencillo, simplemente sugerimos las preguntas guardadas en nuestro sistema que tengan más palabras relevantes en común con la pregunta realizada por el usuario. Con relevantes nos referimos a que no tenemos en cuenta artículos, preposiciones, y similares, o ciertas palabras muy comunes. El sistema podría mejorarse con redes de términos que permitan identificar sinómimos y técnicas similares, pero eso queda fuera del ámbito de esta práctica. La implementación es la siguiente:"
   ]
  },
  {
   "cell_type": "code",
   "execution_count": 7,
   "metadata": {},
   "outputs": [],
   "source": [
    "# Implementación:"
   ]
  },
  {
   "cell_type": "markdown",
   "metadata": {},
   "source": [
    "Ejemplo:"
   ]
  },
  {
   "cell_type": "code",
   "execution_count": 9,
   "metadata": {},
   "outputs": [],
   "source": [
    "# Ejemplo"
   ]
  },
  {
   "cell_type": "markdown",
   "metadata": {},
   "source": [
    "#### Preguntas no tratables"
   ]
  },
  {
   "cell_type": "markdown",
   "metadata": {},
   "source": [
    "Por último, consideramos el caso en el que el usuarios realice una pregunta no tratable por nuestro sistema. Este caso se identifica cuando ninguna de nuestras reglas es aplicable y el sistema de sugerencias no encuentra preguntas con un número de palabras en común superior a un umbral mínimo y ninguna de las sugerencias propuestas satisface al usuario. En ese caso, nuestro sistema devuelve un simple mensaje de error."
   ]
  },
  {
   "cell_type": "code",
   "execution_count": null,
   "metadata": {},
   "outputs": [],
   "source": [
    "# Ejemplo"
   ]
  },
  {
   "cell_type": "markdown",
   "metadata": {},
   "source": [
    "### Obtención de las respuestas"
   ]
  },
  {
   "cell_type": "markdown",
   "metadata": {},
   "source": [
    "Nota: De las transparencias entiendo que hay que construir el espacio de información, siguiendo algunos de los modelos listados pero no explicados en clase, y manualmente, ya que sin haberlo explicado hacerlo automáticamente daría para varias prácticas. Después entiendo que habría que procesar las preguntas para obtener una representación compatible con la representación del espacio de información en ese modelo, hacer algún tipo de matching, y extraer los datos.\n",
    "\n",
    "Nota: Del enunciado de Slack entiendo que esa esa construcción del espacio de información se hace mediante un análisis sintáctico, supongo que también manual porque no se ha explicado otra forma de hacerlo, y entiendo que entonces la representación sería algo parecido a los grafos de la práctica 1. Luego supongo que tras un preprocesamiento similar de las preguntas habría que definir reglas para extraer las respuestas de ese grafo."
   ]
  },
  {
   "cell_type": "markdown",
   "metadata": {},
   "source": [
    "Responder sólo a algunas preguntas como ejemplo. Caso normal, parsing. Un par de casos con reglas distintas (e.g., secciones claramente diferenciables pero sin orden establecido; glosarios...). Olvidarse de toda la mierda del espacio de información"
   ]
  },
  {
   "cell_type": "markdown",
   "metadata": {},
   "source": [
    "## Demo"
   ]
  },
  {
   "cell_type": "markdown",
   "metadata": {},
   "source": [
    "Ejemplos"
   ]
  },
  {
   "cell_type": "markdown",
   "metadata": {},
   "source": [
    "## Evaluación"
   ]
  },
  {
   "cell_type": "markdown",
   "metadata": {},
   "source": [
    "Mismo que la sección anterior pero con los textos de validación\n",
    "\n",
    "Decir que algunas de nuestras reglas serían generalizables a otras recetas con distinta estructura"
   ]
  },
  {
   "cell_type": "code",
   "execution_count": null,
   "metadata": {},
   "outputs": [],
   "source": []
  }
 ],
 "metadata": {
  "kernelspec": {
   "display_name": "Python 3",
   "language": "python",
   "name": "python3"
  },
  "language_info": {
   "codemirror_mode": {
    "name": "ipython",
    "version": 3
   },
   "file_extension": ".py",
   "mimetype": "text/x-python",
   "name": "python",
   "nbconvert_exporter": "python",
   "pygments_lexer": "ipython3",
   "version": "3.6.9"
  }
 },
 "nbformat": 4,
 "nbformat_minor": 2
}
