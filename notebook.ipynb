{
 "cells": [
  {
   "cell_type": "markdown",
   "metadata": {},
   "source": [
    "# Ingeniería Lingüística - Práctica 3"
   ]
  },
  {
   "cell_type": "markdown",
   "metadata": {},
   "source": [
    "Juan Antonio Carrillo Segura  \n",
    "Ignacio Casso San Román  \n",
    "Diego Pérez Sastre"
   ]
  },
  {
   "cell_type": "markdown",
   "metadata": {},
   "source": [
    "## Introducción"
   ]
  },
  {
   "cell_type": "markdown",
   "metadata": {},
   "source": [
    "**TODO:** Resumen de todo lo demás, cuando esté acabado."
   ]
  },
  {
   "cell_type": "markdown",
   "metadata": {},
   "source": [
    "El resto de la memoria está estructurada de la siguiente manera:\n",
    "\n",
    "- En la sección 1, se dan más detalles del dominio, escenarios y fuentes de información propuestos.\n",
    "\n",
    "- En la sección 2, se realiza un análisis detallado de las dimensiones del dominio\n",
    "\n",
    "- En la sección 3, se estudian las preguntas que se le pueden hacer al sistema\n",
    "\n",
    "- En la sección 4, se enseñan las reglas ..."
   ]
  },
  {
   "cell_type": "markdown",
   "metadata": {},
   "source": [
    "## Dominio, escenarios, y fuentes de información"
   ]
  },
  {
   "cell_type": "markdown",
   "metadata": {},
   "source": [
    "**TODO:** Completar esta sección, no sé muy bien que contar a parte de describir las fuentes de información"
   ]
  },
  {
   "cell_type": "markdown",
   "metadata": {},
   "source": [
    "Como se ha adelantado en la introducción, nuestro sistema de extracción de conocimiento está basado en las recetas de cocina. En particular, hemos definido el siguiente escenario hipotético para guiar ... :\n",
    "\n",
    "Se parte de un conjunto de recetas de cocina, en formato de texto y con una estructura determinada para facilitar ..."
   ]
  },
  {
   "cell_type": "markdown",
   "metadata": {},
   "source": [
    "Como dominio de información hemos seleccionado el de recetas de cocina. Hemos planteado los dos escenarios siguientes en los que el usuario necesita extraer información de recetas:"
   ]
  },
  {
   "cell_type": "markdown",
   "metadata": {},
   "source": [
    "**TODO**: Plantear escenarios 1 y 2 _(ya los hago yo cuando tengamos claro lo que es un escenario y si hay que hacer ésto, no es complicado y no bloquea nada --ignacio)_\n",
    "\n",
    "**Nota:** no estoy seguro de lo que es un escenario, pero creo que no es lo mismo que una fuente de información, es decir, el texto con el que trabajamos (véase transparencia nº 3), si no la situación en la que es necesaria extraer conocimiento sin más. En cualquier caso, es terminología y se puede aclarar más tarde, no afecta al resto de la práctica.\n",
    "\n",
    "**Nota:** ¿Dijo el profesor que había que plantear dos escenarios, o eso lo hemos sacado del ejercicio de las transparencias? Ni en el enunciado del moodle de hace años ni en el enunciado de Slack dice nada de escenarios"
   ]
  },
  {
   "cell_type": "markdown",
   "metadata": {},
   "source": [
    "Es importante notar que las fuentes de información se tratan independientemente, es decir, en cada caso la fuente de información consistirá en un único texto, y en ningún caso la información estará distribuida a lo largo de una colección de recursos, indexados o no."
   ]
  },
  {
   "cell_type": "markdown",
   "metadata": {},
   "source": [
    "### Fuentes de información"
   ]
  },
  {
   "cell_type": "markdown",
   "metadata": {},
   "source": [
    "Como fuentes de información usamos una serie de recetas en formato de texto y parcialmente estructuradas, que hemos obtenido de ??. Este conjunto de recetas ha sido dividido en dos subconjuntos: uno en el que nos hemos basado para desarrollar nuestro sistema y otro que se ha usado para validarlo. Por limitaciones de espacio, no se han incluído todas las recetas utilizadas en la memoria, si no que se entregan en una carpeta aparte, y aquí sólo se muentran un par de ellas como ejemplo. El resto de las recetas tienen la misma estructura que las aquí mostradas:"
   ]
  },
  {
   "cell_type": "markdown",
   "metadata": {},
   "source": [
    "**TODO**: rellenar la carpeta con recetas simples con estructura uniforme"
   ]
  },
  {
   "cell_type": "markdown",
   "metadata": {},
   "source": [
    "#### Texto 1"
   ]
  },
  {
   "cell_type": "markdown",
   "metadata": {},
   "source": [
    "Brownie de mandarina\n",
    "\n",
    "Ingredientes:\n",
    "\n",
    "150 g de harina\n",
    "\n",
    "1/2 taza de azúcar\n",
    "\n",
    "150 gr de mantequilla\n",
    "\n",
    "2 cucharadas de ralladura de mandarina\n",
    "\n",
    "5 cucharadas de zumo de mandarina\n",
    "\n",
    "3 huevos\n",
    "\n",
    "1 cucharadita de sal\n",
    "\n",
    "1/4 de taza de leche condensada\n",
    "\n",
    "100 g de azúcar glas\n",
    "\n",
    "Zumo de media mandarina\n",
    "\n",
    "Instrucciones:\n",
    "\n",
    "1. Precalentar el horno a 180 grados.\n",
    "\n",
    "2. Engrasar un molde con unas cucharadas de mantequilla.\n",
    "\n",
    "3. Colocar en un bol la mantequilla y batir ya sea manualmente con una varilla o una batidora. La mantequilla debe estar a temperatura ambiente, para ello se retira del frigorífico unos minutos antes.\n",
    "\n",
    "4. Añadir los huevos y mezclar bien. No es necesario que la mezcla quede tan fina.\n",
    "\n",
    "5. Agregar el zumo de mandarina y la ralladura de mandarina y mezclar todo de nuevo.Brownie de mandarina\n",
    "\n",
    "6. Añadir la harina, le leche condensada y un poco de sal. Batir la mezcla hasta que los grumos desaparezcan.\n",
    "\n",
    "7. Verter la mezcla del brownie de mandarina en el molde y hornear durante media hora aproximadamente.\n",
    "\n",
    "8. Retirar el brownie del horno cuando al introducir un palillo salga limpio. Luego dejar enfriar.\n",
    "\n",
    "9. Mezclar el azúcar glas con el zumo de mandarina paulatinamente, hasta obtener la textura deseada para el glaseado.\n",
    "\n",
    "10. Cubrir el brownie con el glaseado y dejar que se endurezca antes de servir."
   ]
  },
  {
   "cell_type": "markdown",
   "metadata": {},
   "source": [
    "#### Texto 2"
   ]
  },
  {
   "cell_type": "markdown",
   "metadata": {},
   "source": [
    "Lamb Steaks\n",
    "\n",
    "Prep: 5 min, Cook: 20 min.\n",
    "\n",
    "2 tsp olive oil\n",
    "\n",
    "50 g onion, chopped\n",
    "\n",
    "1/2 tsp marjoram, or 1 tsp fresh, minced\n",
    "\n",
    "710 ml canned crushed tomatoes\n",
    "\n",
    "70 g frozen artichoke hearts, thawed\n",
    "\n",
    "4 (680 g) 6 ounce lamb shoulder steaks\n",
    "\n",
    "2 cloves garlic, crushed\n",
    "\n",
    "Heat oil in a heavy non-reactive saucepan over medium heat. Sauté onion 5 minutes, stirring occasionally, or until onion turns golden. Stir in next 3 ingredients. Simmer 15-20 minutes, stirring occasionally, or until sauce thickens. Remove from heat and keep warm. Turn on broiler. Rub steaks with garlic, and salt and pepper to taste. Arrange steaks on a broiler pan. Broil 4 inches from heat source 3-4 minutes\n",
    "per side or until well browned. Serve sauce over lamb steaks.\n",
    "\n",
    "Per serving: calories 407, fat 16.8g, 37% calories from fat, cholesterol 111mg, protein 37.8g, carbohydrates 27.2g, fiber 10.3g, sodium 475mg."
   ]
  },
  {
   "cell_type": "markdown",
   "metadata": {},
   "source": [
    "## Análisis de Dimensiones ##"
   ]
  },
  {
   "cell_type": "markdown",
   "metadata": {},
   "source": [
    "En esta sección se estudian las dimensiones del dominio con el que trabajamos, las recetas de cocina, a partir de las cuales se obtendremos la información por la que se puede preguntar en nuestro sistema. Para ello, estudiamos tres puntos: la fuente de información y los datos que pueden ser consultados en ella; los datos que son relevantes para el usuario, y el nuestro conocimiento previo del dominio."
   ]
  },
  {
   "cell_type": "markdown",
   "metadata": {},
   "source": [
    "### Dimensiones obtenidas a partir de las fuentes de información ###"
   ]
  },
  {
   "cell_type": "markdown",
   "metadata": {},
   "source": [
    "Una forma de obtener las dimensiones del dominio es estudiar las fuentes de información, las recetas con las que trabajamos en nuestro caso. Simplemente observando la información que es tratada por todas ellas y qué conceptos tienen en común, obtenemos inmediatamente algunas de las dimensiones del dominio. Realizando este simple ejercicio, nos encontramos con las siguientes dimensiones o conceptos característicos de nuestro dominio, que están presentes en todos los textos con los que trabajamos:"
   ]
  },
  {
   "cell_type": "markdown",
   "metadata": {},
   "source": [
    "#### Nombre del plato"
   ]
  },
  {
   "cell_type": "markdown",
   "metadata": {},
   "source": [
    "Todos las recetas con las que trabajamos comienzan con el nombre del plato en cuestión, que obviamente es un concepto característico de las recetas de cocina."
   ]
  },
  {
   "cell_type": "markdown",
   "metadata": {},
   "source": [
    "#### Ingredientes"
   ]
  },
  {
   "cell_type": "markdown",
   "metadata": {},
   "source": [
    "De nuevo, todas las recetas con las que trabajamos contienen una lista de los ingredientes necesarios para preparar el plato, lo cual también es claramente un concepto característico de nuestro dominio."
   ]
  },
  {
   "cell_type": "markdown",
   "metadata": {},
   "source": [
    "#### Tiempo"
   ]
  },
  {
   "cell_type": "markdown",
   "metadata": {},
   "source": [
    "Todas nuestras recetas indican también el tiempo que se tarda en preparar el plato en cuestión, lo cual es también un concepto característico del dominio y da lugar por lo tanto a una dimensión."
   ]
  },
  {
   "cell_type": "markdown",
   "metadata": {},
   "source": [
    "#### Pasos"
   ]
  },
  {
   "cell_type": "markdown",
   "metadata": {},
   "source": [
    "Por último, todas las recetas de cocina tienen una sección en la que se listan los pasos para preparar el plato, dando lugar por lo tanto a una dimensión más en nuestro dominio."
   ]
  },
  {
   "cell_type": "markdown",
   "metadata": {},
   "source": [
    "### Dimensiones obtenidas de los escenarios propuestos ###"
   ]
  },
  {
   "cell_type": "markdown",
   "metadata": {},
   "source": [
    "Otra forma de obtener dimensiones es estudiar los conceptos relevantes para el usuario en los escenarios propuestos. Algunos nuevos conceptos que aparecen son:"
   ]
  },
  {
   "cell_type": "markdown",
   "metadata": {},
   "source": [
    "#### Tipo de comida\n",
    "Es claramente relevante para el usuario, y aunque no aparece explícitamente en las recetas, se puede inferir a partir de los ingredientes"
   ]
  },
  {
   "cell_type": "markdown",
   "metadata": {},
   "source": [
    "#### Dificultad\n",
    "Comentario"
   ]
  },
  {
   "cell_type": "markdown",
   "metadata": {},
   "source": [
    "#### Precio\n",
    "Comentario"
   ]
  },
  {
   "cell_type": "markdown",
   "metadata": {},
   "source": [
    "### Dimensiones obtenidas del conocimiento previo del dominio ###"
   ]
  },
  {
   "cell_type": "markdown",
   "metadata": {},
   "source": [
    "Por último, podemos obtener dimensiones ad-hoc a partir de nuestro conocimiento a priori del dominio, por ejemplo:"
   ]
  },
  {
   "cell_type": "markdown",
   "metadata": {},
   "source": [
    "#### Origen geográfico\n",
    "Aunque no sea relevante para el usuario en los escenarios propuestos, ni aparezca explícitamente en las recetas que manejamos, sabemos que es un concepto característico de las recetas que puede ser considerado una dimensión."
   ]
  },
  {
   "cell_type": "markdown",
   "metadata": {},
   "source": [
    "#### Temporada\n",
    "Comentario"
   ]
  },
  {
   "cell_type": "markdown",
   "metadata": {},
   "source": [
    "### Lista final de dimensiones, con sus valores y relaciones (copiar de las transparencias)"
   ]
  },
  {
   "cell_type": "markdown",
   "metadata": {},
   "source": [
    "Una vez identificadas las dimensiones, el siguente paso es estudiarlas en detalle, analizando los distintos valores que pueden tomar y sus relaciones con otros conceptos o dimensiones del dominio. De nuevo, existen distintas posibilidades para obtener esta información. En particular, las tres fuentes que hemos usado para identifiacr las dimensiones, es decir, las recetas de cocina con las que trabajamos, las necesidades del usuario, y nuestro conocimiento a priori, bastarían también para obtener estos valores y relaciones. A continuación se exponen los resultados de este estudio: la lista final de dimensiones de nuestro dominio, junto con sus valores, relaciones, y otras observaciones."
   ]
  },
  {
   "cell_type": "markdown",
   "metadata": {},
   "source": [
    "#### Nombre del plato"
   ]
  },
  {
   "cell_type": "markdown",
   "metadata": {},
   "source": [
    "- Valores:"
   ]
  },
  {
   "cell_type": "markdown",
   "metadata": {},
   "source": [
    "- Observaciones:"
   ]
  },
  {
   "cell_type": "markdown",
   "metadata": {},
   "source": [
    "#### Ingredientes"
   ]
  },
  {
   "cell_type": "markdown",
   "metadata": {},
   "source": [
    "- Valores:"
   ]
  },
  {
   "cell_type": "markdown",
   "metadata": {},
   "source": [
    "- Observaciones:"
   ]
  },
  {
   "cell_type": "markdown",
   "metadata": {},
   "source": [
    "#### Pasos"
   ]
  },
  {
   "cell_type": "markdown",
   "metadata": {},
   "source": [
    "- Valores:"
   ]
  },
  {
   "cell_type": "markdown",
   "metadata": {},
   "source": [
    "- Observaciones:"
   ]
  },
  {
   "cell_type": "markdown",
   "metadata": {},
   "source": [
    "#### Tiempo de preparación"
   ]
  },
  {
   "cell_type": "markdown",
   "metadata": {},
   "source": [
    "- Valores:"
   ]
  },
  {
   "cell_type": "markdown",
   "metadata": {},
   "source": [
    "- Observaciones:"
   ]
  },
  {
   "cell_type": "markdown",
   "metadata": {},
   "source": [
    "#### Tipo de comida"
   ]
  },
  {
   "cell_type": "markdown",
   "metadata": {},
   "source": [
    "- Valores:"
   ]
  },
  {
   "cell_type": "markdown",
   "metadata": {},
   "source": [
    "- Observaciones:"
   ]
  },
  {
   "cell_type": "markdown",
   "metadata": {},
   "source": [
    "#### Dificultad"
   ]
  },
  {
   "cell_type": "markdown",
   "metadata": {},
   "source": [
    "- Valores:"
   ]
  },
  {
   "cell_type": "markdown",
   "metadata": {},
   "source": [
    "- Observaciones:"
   ]
  },
  {
   "cell_type": "markdown",
   "metadata": {},
   "source": [
    "#### Precio"
   ]
  },
  {
   "cell_type": "markdown",
   "metadata": {},
   "source": [
    "- Valores:"
   ]
  },
  {
   "cell_type": "markdown",
   "metadata": {},
   "source": [
    "- Observaciones:"
   ]
  },
  {
   "cell_type": "markdown",
   "metadata": {},
   "source": [
    "#### Origen geográfico"
   ]
  },
  {
   "cell_type": "markdown",
   "metadata": {},
   "source": [
    "- Valores:"
   ]
  },
  {
   "cell_type": "markdown",
   "metadata": {},
   "source": [
    "- Observaciones:"
   ]
  },
  {
   "cell_type": "markdown",
   "metadata": {},
   "source": [
    "#### Temporada"
   ]
  },
  {
   "cell_type": "markdown",
   "metadata": {},
   "source": [
    "- Valores"
   ]
  },
  {
   "cell_type": "markdown",
   "metadata": {},
   "source": [
    "- Observaciones"
   ]
  },
  {
   "cell_type": "markdown",
   "metadata": {},
   "source": [
    "## Selección del conjunto de preguntas ##"
   ]
  },
  {
   "cell_type": "markdown",
   "metadata": {},
   "source": [
    "Desarrollar un sistema automático de extracción de conocimiento de preguntas arbitrarias, aunque sus respuestas estén todas en las fuentes de información, es algo muy complejo. Por eso muchos sistemas, para acotar el problema a tratar, trabajan con un conjunto definido de preguntas posibles, e intentan automatizar el proceso de extracción de conocimiento sólo para ese conjunto de preguntas. Nosotros seguiremos también esta estrategia: realizaremos un estudio previo a la construcción del sistema, en el que seleccionaremos el conjunto de preguntas que nuestro sistema será capaz de responder. Para ello, empezaremos proponiendo preguntas relevantes para el usuario, y nos quedaremos con aquellas para la cuales es es asequible obtener la respuesta a partir de las fuentes de información."
   ]
  },
  {
   "cell_type": "markdown",
   "metadata": {},
   "source": [
    "### Planteamiento de las preguntas ###"
   ]
  },
  {
   "cell_type": "markdown",
   "metadata": {},
   "source": [
    "En esta sección, proponemos un conjunto amplio de preguntas relevantes para el usuario y que esperamos que nuestro sistema de extracción de conocimiento sea capaz de resolver."
   ]
  },
  {
   "cell_type": "markdown",
   "metadata": {},
   "source": [
    "Por un lado tenemos las preguntas que preguntan directamente por el valor de una dimensión:"
   ]
  },
  {
   "cell_type": "markdown",
   "metadata": {},
   "source": [
    "- ¿Cuál es el plato que trata la receta?\n",
    "\n",
    "- ¿Qué ingredientes son necesarios para preparar el plato?\n",
    "\n",
    "- ¿Qué pasos es necesario seguir para preparar el plato?\n",
    "\n",
    "- ¿Cuánto tiempo se tarda en preparar el plato?\n",
    "\n",
    "- ..."
   ]
  },
  {
   "cell_type": "markdown",
   "metadata": {},
   "source": [
    "También podemos preguntar si una dimensión toma un valor particular o si el valor que toma cumple alguna propiedad, obteniendo preguntas como las siguientes:"
   ]
  },
  {
   "cell_type": "markdown",
   "metadata": {},
   "source": [
    "- ¿Es difícil la receta?\n",
    "\n",
    "- ¿Es larga la receta?\n",
    "\n",
    "- ¿Contiene la receta carne?"
   ]
  },
  {
   "cell_type": "markdown",
   "metadata": {},
   "source": [
    "Por último, proponemos preguntas que no tratan ninguna dimensión directamente, como las siguientes:"
   ]
  },
  {
   "cell_type": "markdown",
   "metadata": {},
   "source": [
    "- ¿Qué vinos se recomiendan para acompañar la receta?"
   ]
  },
  {
   "cell_type": "markdown",
   "metadata": {},
   "source": [
    "**TODO:** Añadir a esta lista más tipos de preguntas y más preguntas para cada tipo. Por cada una de ellas, comprobar que satisfacen dimensiones, proponer paráfrasis, actualizar tabla paráfrasis-pregunta. Opcionalmente, proponer reglas e implementar función para responderlas"
   ]
  },
  {
   "cell_type": "markdown",
   "metadata": {},
   "source": [
    "### Identificación de preguntas que satisfacen dimensiones (cambiar nombre de sección)"
   ]
  },
  {
   "cell_type": "markdown",
   "metadata": {},
   "source": [
    "Antes de continuar es necesario asegurarse de que las preguntas propuestas tienen sentido y son coherentes, y de que su respuesta puede encontrarse en las fuentes de información. Es decir, tenemos que comprobar que los conceptos y dimensiones que tratan las preguntas son compatibles con los tratado por las fuentes de información. Sólo nos quedaremos en nuestro sistema con las preguntas en las que ésto suceda. Está claro que ése será el caso más habitual, ya que la mayoría de nuestras preguntas consultan directamente alguna de las dimensiones identificadas para nuestro dominio, y ya hemos visto en la sección anterior que los valores de esas dimensiones pueden casi siempre obtenerse con mayor o menor dificultad a partir de las recetas. Detallaremos a continuación los casos en los que no sucede ésto, es decir, las preguntas que nuestro sistema no es capaz de responder a priori, y detallaremos la medida que hemos tomado al respecto, ya sea omitir la pregunta o complementar las dimensiones del dominio para poder tratarlas. "
   ]
  },
  {
   "cell_type": "markdown",
   "metadata": {},
   "source": [
    "#### Pregunta N1: ¿Contiene la receta carne?\n",
    "\n",
    "El conocimiento para responder a esta pregunta no se puede sacar únicamente de la tabla de dimensiones y sus valores. Aunque sabemos si una receta contiene un ingrediente particular, no sabemos necesariamente si un ingrediente es o no carne. Para poder saberlo haría falta incorporar en nuestro sistema conocimiento previo sobre grupos alimenticios."
   ]
  },
  {
   "cell_type": "markdown",
   "metadata": {},
   "source": [
    "**TODO**: Más preguntas no válidas (añadir preguntas inválidas a la sección anterior si hace falta9"
   ]
  },
  {
   "cell_type": "markdown",
   "metadata": {},
   "source": [
    "### Parafrasing de preguntas"
   ]
  },
  {
   "cell_type": "markdown",
   "metadata": {},
   "source": [
    "En una sistema real, donde las preguntas son formuladas en lenguaje natural, necesariamente los usuarios plantearán las preguntas de diferentes maneras, y ese sistema necesitará poder identificarlas todas. Para ello el sistema necesitará definir reglas, que dada una pregunta en lenguaje natural, permitan seleccionar la pregunta conceptual a la que corresponde en nuestro conjunto de preguntas tratables. El primer paso para hacerlo es, para cada pregunta, definir un conjunto de paráfrasis o formas alternativas de la pregunta, a partir de las cuales se puedan extrapolar las reglas buscadas. En esta sección proponemos algunas de esas paráfrasis para algunas de nuestras preguntas propuestas. Las reglas para identificarlas todas ellas como una misma pregunta se muestran en la sección ??"
   ]
  },
  {
   "cell_type": "markdown",
   "metadata": {},
   "source": [
    "#### Posibles paráfrasis para la pregunta \"¿Cuál es el tiempo de preparación de la receta?\""
   ]
  },
  {
   "cell_type": "markdown",
   "metadata": {},
   "source": [
    "- ¿Cuál es el tiempo de preparación del plato?\n",
    "- ¿Cuánto se tarda en preparar el plato?"
   ]
  },
  {
   "cell_type": "markdown",
   "metadata": {},
   "source": [
    "**TODO**: Completar esta lista, pero sin pasarse, que se pueden escribir hojas y hojas así. Centrarnos primero en las preguntas de las que vamos a sacar reglas, y luego completar con algunas más"
   ]
  },
  {
   "cell_type": "markdown",
   "metadata": {},
   "source": [
    "## Procesamiento de las preguntas"
   ]
  },
  {
   "cell_type": "markdown",
   "metadata": {},
   "source": [
    "Ya definidos el conjunto de preguntas que deseamos poder responder y las fuentes de información a partir de las cuales obtener las respuestas, nuestro siguiente paso será encontrar un método que nos permitan responder a las preguntas automáticamente."
   ]
  },
  {
   "cell_type": "markdown",
   "metadata": {},
   "source": [
    "En el caso general, lo que se necesita es construir un espacio de información a partir de las fuentes de información, siguiendo alguno de los modelos y representaciones propuestos en la literatura, representar la pregunta de acuerdo a ese modelo o representación, y hacer matching de ambos para encontrar la respuesta. En nuestro caso, habiendo limitado el conjunto de preguntas tratables por nuestro sistema, lo que haremos será más sencillo. Por un lado, definimos reglas para identificar una pregunta del usuario expresada en lenguaje natural como una de las preguntas tratables de nuestro conjunto. Por otro, definiremos reglas para obtener la respuesta a cada una de nuestras preguntas tratables a partir de las fuentes de información."
   ]
  },
  {
   "cell_type": "markdown",
   "metadata": {},
   "source": [
    "En esta sección se detallan e implementan algunas las reglas para algunas de las preguntas, aunque por limitaciones obvias de tiempo y espacio no es posible tratarlas todas."
   ]
  },
  {
   "cell_type": "markdown",
   "metadata": {},
   "source": [
    "### Identificación de las preguntas"
   ]
  },
  {
   "cell_type": "markdown",
   "metadata": {},
   "source": [
    "En esta sección se detallan las reglas para identificar una pregunta en lenguaje natural como una pregunta conceptual tratable por nuestro sistema. Ésta es un tarea complicada en la que se requiere mucho esfuerzo y estudio detallado para llevarla a cabo con precisión, debido al número en principio no acotado de diferentes formas de formular las preguntas. Por ello sólo se llevará a cabo en nuestro sistema para un subconjunto limitado de nuestras preguntas, sólo del suficiente tamaño y con la variedad suficiente como para representar las distintas ideas y técnicas que se pueden utilizar para resolver el problema. A continuación se muestran las reglas para ese subconjunto de preguntas, y se expone cómo tratamos el resto de preguntas."
   ]
  },
  {
   "cell_type": "markdown",
   "metadata": {},
   "source": [
    "**TODO**: Reglas para identificar una pregunta inferidas a partir de las paráfrasis propuestas. Ésta es la parte menos clara y con más espacio para la imprvisación. Propongo que nos inventemos una cada uno"
   ]
  },
  {
   "cell_type": "markdown",
   "metadata": {},
   "source": [
    "#### Pregunta: ¿...?"
   ]
  },
  {
   "cell_type": "markdown",
   "metadata": {},
   "source": [
    "Explicación reglas"
   ]
  },
  {
   "cell_type": "code",
   "execution_count": 26,
   "metadata": {},
   "outputs": [],
   "source": [
    "def is_question_N1(Question):\n",
    "    return False"
   ]
  },
  {
   "cell_type": "markdown",
   "metadata": {},
   "source": [
    "#### Pregunta N: ¿...?"
   ]
  },
  {
   "cell_type": "markdown",
   "metadata": {},
   "source": [
    "Explicación reglas"
   ]
  },
  {
   "cell_type": "code",
   "execution_count": 27,
   "metadata": {},
   "outputs": [],
   "source": [
    "def is_question_N2(Question):\n",
    "    return False"
   ]
  },
  {
   "cell_type": "markdown",
   "metadata": {},
   "source": [
    "#### Pregunta N: ¿...?"
   ]
  },
  {
   "cell_type": "markdown",
   "metadata": {},
   "source": [
    "Explicación reglas"
   ]
  },
  {
   "cell_type": "code",
   "execution_count": 28,
   "metadata": {},
   "outputs": [],
   "source": [
    "def is_question_N3(Question):\n",
    "    return False"
   ]
  },
  {
   "cell_type": "markdown",
   "metadata": {},
   "source": [
    "#### Resto de preguntas"
   ]
  },
  {
   "cell_type": "markdown",
   "metadata": {},
   "source": [
    "Para el resto de preguntas, sugerimos el siguiente método."
   ]
  },
  {
   "cell_type": "markdown",
   "metadata": {},
   "source": [
    "Primero, implementaremos en nuestro sistema una asociación directa entre las paráfrasis de una pregunta que hemos propuesto en la sección ?? y dicha pregunta. Nótose que a pesar de su simplicidad, éste es un método completamente válido y que puede dar lugar a buenos resultados: en vez de inferir reglas generales para identificar un conjunto de preguntas como la misma, simplemente definir explicitamente ese conjunto. Aunque en principio las distintas formas de plantear una misma pregunta son practicamente ilimitadas, en la práctica y con usuarios reales probablemente no pasen de pocas decenas. Es por lo tanto factible realizar un estudio detallado de las distintas formas _realistas_ de definir la pregunta y guardar una tabla que las asocie con la pregunta conceptual en nuestro sistema. También es posible combinar ambos métodos, definiendo primero reglas generales, y tras evaluarlas definiendo reglas particulares y específicas para los casos en los que han resultado ser imprecisas. Eso es precisamente lo que hacemos para la paráfrasis incorrectamente clasificada del apartado anterior (**borrar ésta frase si nos salen todas las reglas perfectas, o crear artificialmente la situación**). A continuación implementamos la tabla para nuestras preguntas y nuestras paráfrasis:"
   ]
  },
  {
   "cell_type": "code",
   "execution_count": 16,
   "metadata": {},
   "outputs": [],
   "source": [
    "table = { # TODO:\n",
    "        #pregunta N1\n",
    "        \"¿Qué plato trata la receta?\":\"get_title\",\n",
    "        \"¿Cual es el plato que trata la receta?\":\"get_title\",\n",
    "        \"parafrasisN1\":\"get_title\",\n",
    "        # ...\n",
    "        \"parafrasisNM\":\"get_title\",\n",
    "    \n",
    "        # ...\n",
    "    \n",
    "        #pregunta N1\n",
    "        \"parafrasisN1\":\"preguntaN\",\n",
    "        # ...\n",
    "        \"parafrasisNM\":\"preguntaN\"\n",
    "    }\n",
    "\n",
    "#\n",
    "\n",
    "def identify_question(query):\n",
    "    if query in table:\n",
    "        return table[query]\n",
    "    # elif is_question_Id(query):\n",
    "        # return id\n",
    "    else:\n",
    "        return \"unknown_question\"\n",
    "# write rule that just reads table"
   ]
  },
  {
   "cell_type": "markdown",
   "metadata": {},
   "source": [
    "Ejemplo:"
   ]
  },
  {
   "cell_type": "code",
   "execution_count": 17,
   "metadata": {},
   "outputs": [
    {
     "data": {
      "text/plain": [
       "'get_title'"
      ]
     },
     "execution_count": 17,
     "metadata": {},
     "output_type": "execute_result"
    }
   ],
   "source": [
    "identify_question(\"¿Cual es el plato que trata la receta?\")"
   ]
  },
  {
   "cell_type": "markdown",
   "metadata": {},
   "source": [
    "Además de esto, añadimos un sistema de sugerencias _naive_, en el que si una pregunta no está en la tabla o no es clasificada siguiendo alguna de las reglas, se le sugiere al usuario a qué pregunta o preguntas podría corresponder. En el caso de que el usuario indique que en efecto se refería a una de las preguntas sugeridas, la nueva paráfrasis que ha usado el usuario se añade a la tabla anterior. De esta forma nuestro sistema aprende con el tiempo a medida que los usuarios lo utilizan."
   ]
  },
  {
   "cell_type": "markdown",
   "metadata": {},
   "source": [
    "El algoritmo de sugerencias que proponemos es muy sencillo, simplemente sugerimos las preguntas guardadas en nuestro sistema que tengan más palabras relevantes en común con la pregunta realizada por el usuario. Con relevantes nos referimos a que no tenemos en cuenta artículos, preposiciones, y similares, o ciertas palabras muy comunes. El sistema podría mejorarse con redes de términos que permitan identificar sinómimos y técnicas similares, pero eso queda fuera del ámbito de esta práctica. La implementación es la siguiente:"
   ]
  },
  {
   "cell_type": "code",
   "execution_count": 3,
   "metadata": {},
   "outputs": [],
   "source": [
    "# TODO: Implementación"
   ]
  },
  {
   "cell_type": "markdown",
   "metadata": {},
   "source": [
    "Ejemplo:"
   ]
  },
  {
   "cell_type": "code",
   "execution_count": 4,
   "metadata": {},
   "outputs": [],
   "source": [
    "# TODO: Ejemplo"
   ]
  },
  {
   "cell_type": "markdown",
   "metadata": {},
   "source": [
    "#### Preguntas no tratables"
   ]
  },
  {
   "cell_type": "markdown",
   "metadata": {},
   "source": [
    "Por último, consideramos el caso en el que el usuarios realice una pregunta no tratable por nuestro sistema. Este caso se identifica cuando ninguna de nuestras reglas es aplicable y el sistema de sugerencias no encuentra preguntas con un número de palabras en común superior a un umbral mínimo y ninguna de las sugerencias propuestas satisface al usuario. En ese caso, nuestro sistema devuelve un simple mensaje de error."
   ]
  },
  {
   "cell_type": "markdown",
   "metadata": {},
   "source": [
    "### Obtención de las respuestas"
   ]
  },
  {
   "cell_type": "markdown",
   "metadata": {},
   "source": [
    "En esta sección se detallan las reglas para extraer de las fuentes de información las respuestas a las preguntas realizadas por el usuario. En el caso de textos no estructurados, puede llegar a ser muy complicado obtener estas reglas, siendo necesario aplicar técnicas complejas de ingeniería lingüística. Por suerte, nuestras fuentes de información, las recetas, son parcialmente estructuradas, y gran parte de la información puede ser muy sencilla de obtener, simplemente \"parseando\" las recetas para encontrar los valores de la dimensión buscada. Sin embargo, quedarán algunas dimensiones que entrarán en el primer caso y para las cuales obtener información puede ser muy complicado. De nuevo por limitaciones de tiempo y espacio, sólo esbozaremos algunas ideas para preguntas que tratan dichas dimensiones y nos centraremos en las preguntas que pueden responderse basándonos en la estructura conocida del texto.\n",
    "\n",
    "A continuación, mostramos las reglas para responder a algunas de nuestras preguntas:"
   ]
  },
  {
   "cell_type": "markdown",
   "metadata": {},
   "source": [
    "#### Pregunta: ¿Qué plato trata la receta?"
   ]
  },
  {
   "cell_type": "markdown",
   "metadata": {},
   "source": [
    "Sabemos que todas nuestras recetas comienzan con una sola línea que indica el título de la receta, y por lo tanto para responder a esa pregunta basta con obtener esa línea."
   ]
  },
  {
   "cell_type": "code",
   "execution_count": 6,
   "metadata": {},
   "outputs": [],
   "source": [
    "def get_recipe_title(recipe):\n",
    "    a = recipe.partition('\\n')[0]\n",
    "    return a"
   ]
  },
  {
   "cell_type": "markdown",
   "metadata": {},
   "source": [
    "#### Pregunta: ¿...?"
   ]
  },
  {
   "cell_type": "markdown",
   "metadata": {},
   "source": [
    "**TODO:** Explicar aquí las reglas para otra pregunta donde baste con simple parsing"
   ]
  },
  {
   "cell_type": "code",
   "execution_count": 7,
   "metadata": {},
   "outputs": [],
   "source": [
    "# implementation"
   ]
  },
  {
   "cell_type": "markdown",
   "metadata": {},
   "source": [
    "#### Pregunta: ¿...?"
   ]
  },
  {
   "cell_type": "markdown",
   "metadata": {},
   "source": [
    "**TODO:** Explicar aquí las reglas para otra pregunta donde baste con simple parsing"
   ]
  },
  {
   "cell_type": "code",
   "execution_count": 8,
   "metadata": {},
   "outputs": [],
   "source": [
    "# implementation"
   ]
  },
  {
   "cell_type": "markdown",
   "metadata": {},
   "source": [
    "#### Pregunta: ¿...?"
   ]
  },
  {
   "cell_type": "markdown",
   "metadata": {},
   "source": [
    "**TODO:** Explicar aquí las reglas de otra pregunta donde haya que hacer parsing algo más complejo (e.g., una secció que pueda aparecer en cualquier lugar pero que sea fácil de identificar con un prefijo)"
   ]
  },
  {
   "cell_type": "code",
   "execution_count": 9,
   "metadata": {},
   "outputs": [],
   "source": [
    "# implementation"
   ]
  },
  {
   "cell_type": "markdown",
   "metadata": {},
   "source": [
    "#### Pregunta: ¿...?"
   ]
  },
  {
   "cell_type": "markdown",
   "metadata": {},
   "source": [
    "**TODO:** Explicar aquí las reglas para una pregunta ya algo más complicada (e.g., identificar una sección mediante un glosario)"
   ]
  },
  {
   "cell_type": "code",
   "execution_count": 10,
   "metadata": {},
   "outputs": [],
   "source": [
    "# implementation"
   ]
  },
  {
   "cell_type": "markdown",
   "metadata": {},
   "source": [
    "### Juntando las piezas"
   ]
  },
  {
   "cell_type": "markdown",
   "metadata": {},
   "source": [
    "Una vez implementadas todas estas reglas, para responder a una pregunta del usuario, basta con obtener el identificador de la pregunta básica a la que corresponde y llamar a la función que responde a esa pregunta. A continuación se muestra el código que lo implementa y algunos ejemplos:"
   ]
  },
  {
   "cell_type": "code",
   "execution_count": 11,
   "metadata": {},
   "outputs": [],
   "source": [
    "def process_unknown_question(recipe):\n",
    "    print(\"The system does not understand the provided query\")\n",
    "\n",
    "answer_functions = {\n",
    "    \"get_title\":get_recipe_title,\n",
    "    # TODO: fill this\n",
    "    \"unknown_question\":process_unknown_question\n",
    "}\n",
    "\n",
    "def answer_question(question, recipe):\n",
    "    func = answer_functions[question]\n",
    "    return func(recipe)"
   ]
  },
  {
   "cell_type": "code",
   "execution_count": 12,
   "metadata": {},
   "outputs": [],
   "source": [
    "def answer_query(query, recipe):\n",
    "    question = identify_question(query)\n",
    "    return answer_question(question, recipe)"
   ]
  },
  {
   "cell_type": "markdown",
   "metadata": {},
   "source": [
    "#### Ejemplos"
   ]
  },
  {
   "cell_type": "code",
   "execution_count": 13,
   "metadata": {},
   "outputs": [],
   "source": [
    "recipe = open(\"recipes/for_design/brownie_mandarina.txt\").read()"
   ]
  },
  {
   "cell_type": "code",
   "execution_count": 14,
   "metadata": {},
   "outputs": [
    {
     "data": {
      "text/plain": [
       "'Brownie de mandarina'"
      ]
     },
     "execution_count": 14,
     "metadata": {},
     "output_type": "execute_result"
    }
   ],
   "source": [
    "answer_query(\"¿Qué plato trata la receta?\", recipe)"
   ]
  },
  {
   "cell_type": "markdown",
   "metadata": {},
   "source": [
    "**TODO:** Más ejemplos, a medida que se vayan implementando"
   ]
  },
  {
   "cell_type": "code",
   "execution_count": 15,
   "metadata": {},
   "outputs": [
    {
     "name": "stdout",
     "output_type": "stream",
     "text": [
      "The system does not understand the provided query\n"
     ]
    }
   ],
   "source": [
    "answer_query(\"Pregunta absurda\", recipe)"
   ]
  },
  {
   "cell_type": "markdown",
   "metadata": {},
   "source": [
    "## Evaluación"
   ]
  },
  {
   "cell_type": "markdown",
   "metadata": {},
   "source": [
    "**TODO:** Responder a preguntas igual que en el apartado anterio pero con recetas del conjunto de validación."
   ]
  },
  {
   "cell_type": "markdown",
   "metadata": {},
   "source": [
    "**TODO**: ¿Un párrafo acerca de cómo es ésto de generalizable a recetas con distinta estructura?"
   ]
  },
  {
   "cell_type": "markdown",
   "metadata": {},
   "source": [
    "## Enunciado"
   ]
  },
  {
   "cell_type": "markdown",
   "metadata": {},
   "source": [
    "### Moodle\n",
    "\n",
    "La práctica consistirá en hacer un sistema de extracción de datos a partir de textos clasificados temáticamente (es decir de un tema determinado) pero no necesariamente estructurados. Para ello el alumno escogerá un texto y manualmente identificará los datos que querrá extraer. Este trabajo manual es factible hacerlo de manera automática o semiautomática pero su dificultad sobrepasa la intención de esta práctica. Elegidos los datos se construirá el Espacio de Información (ver transparencias) y se seguirá a continuación el procedimiento contado el clase, cuyo resumen está en la última transparencia del paquete y como guía puede seguirse el esquema contado en clase.\n",
    "\n",
    "El sistema diseñado debe poder ser capaz de responder a preguntas para lo que se deberán de seleccionar un conjunto de preguntas (en sus diversas formas - paráfrasis) sobre los items (datos) seleccionados como preguntables.\n",
    "\n",
    "Se deberá indicar como tratar la pregunta y como a partir de esto se selecciona la respuesta. Se deberá detallar la gramática que permite definir el sistema de pregunta - respuesta. Hecha e implementada la gramática, deberá probarse con los datos de un documento similar al de referencia. Los documentos de partida son a libre elección del alumno. (prospectos farmacéuticos, partidos de futbol, recetas de cocina, etc...)\n",
    "\n",
    "La práctica se hara por el mismo grupo que ha hecho la práctica 2.\n",
    "\n",
    "\n",
    "### Slack\n",
    "\n",
    "Procedimiento de extraccion de informacion\n",
    "\n",
    "1. Eleccion del texto de preferencia\n",
    "2. Marcacion de datos preguntables (cobertura)\n",
    "3. Definicion de dimensiones (agrupacion de datos)\n",
    "4. Planteamiento de preguntas\n",
    "5. Identificacion de preguntas que satisfacen dimensiones\n",
    "6. Realizacion de parafrasing de preguntas\n",
    "7. Analisis sintactico del texto\n",
    "8. Creacion de reglas para extraer informacion del texto"
   ]
  },
  {
   "cell_type": "code",
   "execution_count": null,
   "metadata": {},
   "outputs": [],
   "source": []
  }
 ],
 "metadata": {
  "kernelspec": {
   "display_name": "Python 3",
   "language": "python",
   "name": "python3"
  },
  "language_info": {
   "codemirror_mode": {
    "name": "ipython",
    "version": 3
   },
   "file_extension": ".py",
   "mimetype": "text/x-python",
   "name": "python",
   "nbconvert_exporter": "python",
   "pygments_lexer": "ipython3",
   "version": "3.6.9"
  }
 },
 "nbformat": 4,
 "nbformat_minor": 2
}
