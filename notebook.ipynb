{
 "cells": [
  {
   "cell_type": "markdown",
   "metadata": {},
   "source": [
    "# Ingeniería Lingüística - Práctica 3"
   ]
  },
  {
   "cell_type": "markdown",
   "metadata": {},
   "source": [
    "Juan Antonio Carrillo Segura  \n",
    "Ignacio Casso San Román  \n",
    "Diego Pérez Sastre"
   ]
  },
  {
   "cell_type": "markdown",
   "metadata": {},
   "source": [
    "## Introducción"
   ]
  },
  {
   "cell_type": "markdown",
   "metadata": {},
   "source": [
    "**TODO:** Resumen de todo lo demás, cuando esté acabado."
   ]
  },
  {
   "cell_type": "markdown",
   "metadata": {},
   "source": [
    "El resto de la memoria está estructurada de la siguiente manera:\n",
    "\n",
    "- En la sección 1, se dan más detalles del dominio, escenarios y fuentes de información propuestos.\n",
    "\n",
    "- En la sección 2, se realiza un análisis detallado de las dimensiones del dominio\n",
    "\n",
    "- En la sección 3, se estudian las preguntas que se le pueden hacer al sistema\n",
    "\n",
    "- En la sección 4, se enseñan las reglas ..."
   ]
  },
  {
   "cell_type": "markdown",
   "metadata": {},
   "source": [
    "## Dominio, escenarios, y fuentes de información"
   ]
  },
  {
   "cell_type": "markdown",
   "metadata": {},
   "source": [
    "**TODO:** Rellenar esta sección"
   ]
  },
  {
   "cell_type": "markdown",
   "metadata": {},
   "source": [
    "Como se ha adelantado en la introducción, nuestro sistema de extracción de conocimiento está basado en las recetas de cocina. En particular, hemos definido el siguiente escenario hipotético para guiar ... :\n",
    "\n",
    "Se parte de un conjunto de recetas de cocina, en formato de texto y con una estructura determinada para facilitar ..."
   ]
  },
  {
   "cell_type": "markdown",
   "metadata": {},
   "source": [
    "Como dominio de información hemos seleccionado el de recetas de cocina. Hemos planteado los dos escenarios siguientes en los que el usuario necesita extraer información de recetas:"
   ]
  },
  {
   "cell_type": "markdown",
   "metadata": {},
   "source": [
    "**TODO**: Plantear escenarios 1 y 2 _(ya los hago yo cuando tengamos claro lo que es un escenario y si hay que hacer ésto, no es complicado y no bloquea nada --ignacio)_\n",
    "\n",
    "**Nota:** no estoy seguro de lo que es un escenario, pero creo que no es lo mismo que una fuente de información, es decir, el texto con el que trabajamos (véase transparencia nº 3), si no la situación en la que es necesaria extraer conocimiento sin más. En cualquier caso, es terminología y se puede aclarar más tarde, no afecta al resto de la práctica.\n",
    "\n",
    "**Nota:** ¿Dijo el profesor que había que plantear dos escenarios, o eso lo hemos sacado del ejercicio de las transparencias? Ni en el enunciado del moodle de hace años ni en el enunciado de Slack dice nada de escenarios"
   ]
  },
  {
   "cell_type": "markdown",
   "metadata": {},
   "source": [
    "Como fuentes de información hemos seleccionado las dos recetas que aparecen a continuación. Una será usada a lo largo de la práctica para construir el sistema de extracción de datos, y la otra para validarlo al final. Es importante notar que las fuentes de información se tratan independientemente, es decir, en cada caso la fuente de información consistirá en un único texto, y en ningún caso la información estará distribuida a lo largo de una colección de recursos, indexados o no."
   ]
  },
  {
   "cell_type": "markdown",
   "metadata": {},
   "source": [
    "### Fuentes de información"
   ]
  },
  {
   "cell_type": "markdown",
   "metadata": {},
   "source": [
    "Como fuentes de información usamos una serie de recetas en formato de texto y parcialmente estructuradas, que hemos obtenido de ??. Este conjunto de recetas ha sido dividido en dos subconjuntos: uno en el que nos hemos basado para desarrollar nuestro sistema y otro que se ha usado para validarlo. Por limitaciones de espacio, no se han incluído todas las recetas utilizadas en la memoria, si no que se entregan en una carpeta aparte, y aquí sólo se muentran un par de ellas como ejemplo. El resto de las recetas tienen la misma estructura que las aquí mostradas:"
   ]
  },
  {
   "cell_type": "markdown",
   "metadata": {},
   "source": [
    "#### Texto 1"
   ]
  },
  {
   "cell_type": "markdown",
   "metadata": {},
   "source": [
    "Título\n",
    "\n",
    "Tiempo de preparación: X activos, Y en total\n",
    "\n",
    "Ingredientes: lista\n",
    "\n",
    "Instrucciones: lista"
   ]
  },
  {
   "cell_type": "markdown",
   "metadata": {},
   "source": [
    "#### Texto 2"
   ]
  },
  {
   "cell_type": "markdown",
   "metadata": {},
   "source": [
    "Lamb Steaks\n",
    "\n",
    "Prep: 5 min, Cook: 20 min.\n",
    "\n",
    "2 tsp olive oil\n",
    "\n",
    "50 g onion, chopped\n",
    "\n",
    "1/2 tsp marjoram, or 1 tsp fresh, minced\n",
    "\n",
    "710 ml canned crushed tomatoes\n",
    "\n",
    "70 g frozen artichoke hearts, thawed\n",
    "\n",
    "4 (680 g) 6 ounce lamb shoulder steaks\n",
    "\n",
    "2 cloves garlic, crushed\n",
    "\n",
    "Heat oil in a heavy non-reactive saucepan over medium heat. Sauté onion 5 minutes, stirring occasionally, or until onion turns golden. Stir in next 3 ingredients. Simmer 15-20 minutes, stirring occasionally, or until sauce thickens. Remove from heat and keep warm. Turn on broiler. Rub steaks with garlic, and salt and pepper to taste. Arrange steaks on a broiler pan. Broil 4 inches from heat source 3-4 minutes\n",
    "per side or until well browned. Serve sauce over lamb steaks.\n",
    "\n",
    "Per serving: calories 407, fat 16.8g, 37% calories from fat, cholesterol 111mg, protein 37.8g, carbohydrates 27.2g, fiber 10.3g, sodium 475mg."
   ]
  },
  {
   "cell_type": "markdown",
   "metadata": {},
   "source": [
    "## Análisis de Dimensiones ##"
   ]
  },
  {
   "cell_type": "markdown",
   "metadata": {},
   "source": [
    "En esta sección se estudian las dimensiones del dominio con el que trabajamos, las recetas de cocina, a partir de las cuales se obtendremos la información por la que se puede preguntar en nuestro sistema. Para ello, estudiamos tres puntos: la fuente de información y los datos que pueden ser consultados en ella; los datos que son relevantes para el usuario, y el nuestro conocimiento previo del dominio."
   ]
  },
  {
   "cell_type": "markdown",
   "metadata": {},
   "source": [
    "### Dimensiones obtenidas a partir de las fuentes de información ###"
   ]
  },
  {
   "cell_type": "markdown",
   "metadata": {},
   "source": [
    "Una forma de obtener las dimensiones del dominio es estudiar las fuentes de información, las recetas con las que trabajamos en nuestro caso. Simplemente observando la información que es tratada por todas ellas y qué conceptos tienen en común, obtenemos inmediatamente algunas de las dimensiones del dominio. Realizando este simple ejercicio, nos encontramos con las siguientes dimensiones o conceptos característicos de nuestro dominio, que están presentes en todos los textos con los que trabajamos:"
   ]
  },
  {
   "cell_type": "markdown",
   "metadata": {},
   "source": [
    "#### Nombre del plato"
   ]
  },
  {
   "cell_type": "markdown",
   "metadata": {},
   "source": [
    "Todos las recetas con las que trabajamos comienzan con el nombre del plato en cuestión, que obviamente es un concepto característico de las recetas de cocina."
   ]
  },
  {
   "cell_type": "markdown",
   "metadata": {},
   "source": [
    "#### Ingredientes"
   ]
  },
  {
   "cell_type": "markdown",
   "metadata": {},
   "source": [
    "De nuevo, todas las recetas con las que trabajamos contienen una lista de los ingredientes necesarios para preparar el plato, lo cual también es claramente un concepto característico de nuestro dominio."
   ]
  },
  {
   "cell_type": "markdown",
   "metadata": {},
   "source": [
    "#### Tiempo"
   ]
  },
  {
   "cell_type": "markdown",
   "metadata": {},
   "source": [
    "Todas nuestras recetas indican también el tiempo que se tarda en preparar el plato en cuestión, lo cual es también un concepto característico del dominio y da lugar por lo tanto a una dimensión."
   ]
  },
  {
   "cell_type": "markdown",
   "metadata": {},
   "source": [
    "#### Pasos"
   ]
  },
  {
   "cell_type": "markdown",
   "metadata": {},
   "source": [
    "Por último, todas las recetas de cocina tienen una sección en la que se listan los pasos para preparar el plato, dando lugar por lo tanto a una dimensión más en nuestro dominio."
   ]
  },
  {
   "cell_type": "markdown",
   "metadata": {},
   "source": [
    "### Dimensiones obtenidas de los escenarios propuestos ###"
   ]
  },
  {
   "cell_type": "markdown",
   "metadata": {},
   "source": [
    "Otra forma de obtener dimensiones es estudiar los conceptos relevantes para el usuario en los escenarios propuestos. Algunos nuevos conceptos que aparecen son:"
   ]
  },
  {
   "cell_type": "markdown",
   "metadata": {},
   "source": [
    "#### Tipo de comida\n",
    "Es claramente relevante para el usuario, y aunque no aparece explícitamente en las recetas, se puede inferir a partir de los ingredientes"
   ]
  },
  {
   "cell_type": "markdown",
   "metadata": {},
   "source": [
    "#### Dificultad\n",
    "Comentario"
   ]
  },
  {
   "cell_type": "markdown",
   "metadata": {},
   "source": [
    "#### Precio\n",
    "Comentario"
   ]
  },
  {
   "cell_type": "markdown",
   "metadata": {},
   "source": [
    "### Dimensiones obtenidas del conocimiento previo del dominio ###"
   ]
  },
  {
   "cell_type": "markdown",
   "metadata": {},
   "source": [
    "Por último, podemos obtener dimensiones ad-hoc a partir de nuestro conocimiento a priori del dominio, por ejemplo:"
   ]
  },
  {
   "cell_type": "markdown",
   "metadata": {},
   "source": [
    "#### Origen geográfico\n",
    "Aunque no sea relevante para el usuario en los escenarios propuestos, ni aparezca explícitamente en las recetas que manejamos, sabemos que es un concepto característico de las recetas que puede ser considerado una dimensión."
   ]
  },
  {
   "cell_type": "markdown",
   "metadata": {},
   "source": [
    "#### Temporada\n",
    "Comentario"
   ]
  },
  {
   "cell_type": "markdown",
   "metadata": {},
   "source": [
    "### Lista final de dimensiones, con sus valores y relaciones (copiar de las transparencias)"
   ]
  },
  {
   "cell_type": "markdown",
   "metadata": {},
   "source": [
    "Una vez identificadas las dimensiones, el siguente paso es estudiarlas en detalle, analizando los distintos valores que pueden tomar y sus relaciones con otros conceptos o dimensiones del dominio. De nuevo, existen distintas posibilidades para obtener esta información. En particular, las tres fuentes que hemos usado para identifiacr las dimensiones, es decir, las recetas de cocina con las que trabajamos, las necesidades del usuario, y nuestro conocimiento a priori, bastarían también para obtener estos valores y relaciones. A continuación se exponen los resultados de este estudio: la lista final de dimensiones de nuestro dominio, junto con sus valores, relaciones, y otras observaciones."
   ]
  },
  {
   "cell_type": "markdown",
   "metadata": {},
   "source": [
    "#### Nombre del plato"
   ]
  },
  {
   "cell_type": "markdown",
   "metadata": {},
   "source": [
    "- Valores:"
   ]
  },
  {
   "cell_type": "markdown",
   "metadata": {},
   "source": [
    "- Observaciones:"
   ]
  },
  {
   "cell_type": "markdown",
   "metadata": {},
   "source": [
    "#### Ingredientes"
   ]
  },
  {
   "cell_type": "markdown",
   "metadata": {},
   "source": [
    "- Valores:"
   ]
  },
  {
   "cell_type": "markdown",
   "metadata": {},
   "source": [
    "- Observaciones:"
   ]
  },
  {
   "cell_type": "markdown",
   "metadata": {},
   "source": [
    "#### Pasos"
   ]
  },
  {
   "cell_type": "markdown",
   "metadata": {},
   "source": [
    "- Valores:"
   ]
  },
  {
   "cell_type": "markdown",
   "metadata": {},
   "source": [
    "- Observaciones:"
   ]
  },
  {
   "cell_type": "markdown",
   "metadata": {},
   "source": [
    "#### Tiempo de preparación"
   ]
  },
  {
   "cell_type": "markdown",
   "metadata": {},
   "source": [
    "- Valores:"
   ]
  },
  {
   "cell_type": "markdown",
   "metadata": {},
   "source": [
    "- Observaciones:"
   ]
  },
  {
   "cell_type": "markdown",
   "metadata": {},
   "source": [
    "#### Tipo de comida"
   ]
  },
  {
   "cell_type": "markdown",
   "metadata": {},
   "source": [
    "- Valores:"
   ]
  },
  {
   "cell_type": "markdown",
   "metadata": {},
   "source": [
    "- Observaciones:"
   ]
  },
  {
   "cell_type": "markdown",
   "metadata": {},
   "source": [
    "#### Dificultad"
   ]
  },
  {
   "cell_type": "markdown",
   "metadata": {},
   "source": [
    "- Valores:"
   ]
  },
  {
   "cell_type": "markdown",
   "metadata": {},
   "source": [
    "- Observaciones:"
   ]
  },
  {
   "cell_type": "markdown",
   "metadata": {},
   "source": [
    "#### Precio"
   ]
  },
  {
   "cell_type": "markdown",
   "metadata": {},
   "source": [
    "- Valores:"
   ]
  },
  {
   "cell_type": "markdown",
   "metadata": {},
   "source": [
    "- Observaciones:"
   ]
  },
  {
   "cell_type": "markdown",
   "metadata": {},
   "source": [
    "#### Origen geográfico"
   ]
  },
  {
   "cell_type": "markdown",
   "metadata": {},
   "source": [
    "- Valores:"
   ]
  },
  {
   "cell_type": "markdown",
   "metadata": {},
   "source": [
    "- Observaciones:"
   ]
  },
  {
   "cell_type": "markdown",
   "metadata": {},
   "source": [
    "#### Temporada"
   ]
  },
  {
   "cell_type": "markdown",
   "metadata": {},
   "source": [
    "- Valores"
   ]
  },
  {
   "cell_type": "markdown",
   "metadata": {},
   "source": [
    "- Observaciones"
   ]
  },
  {
   "cell_type": "markdown",
   "metadata": {},
   "source": [
    "## Selección del conjunto de preguntas ##"
   ]
  },
  {
   "cell_type": "markdown",
   "metadata": {},
   "source": [
    "Desarrollar un sistema automático de extracción de conocimiento de preguntas arbitrarias, aunque sus respuestas estén todas en las fuentes de información, es muy complicado. Por eso muchos sistemas, para acotar el problema a tratar, trabajan con un conjunto definido de preguntas posibles, e intentan automatizar el proceso de extracción de conocimiento sólo para ese conjunto de preguntas. Nosotros seguiremos también esta estrategia: realizaremos un estudio previo a la construcción del sistema, en el que seleccionaremos el conjunto de preguntas que nuestro sistema será capaz de responder. Para ello, empezaremos proponiendo preguntas relevantes para el usuario, y nos quedaremos con aquellas cuya respuesta es asequible obtenerla a partir de las fuentes de información."
   ]
  },
  {
   "cell_type": "markdown",
   "metadata": {},
   "source": [
    "### Planteamiento de las preguntas ###"
   ]
  },
  {
   "cell_type": "markdown",
   "metadata": {},
   "source": []
  },
  {
   "cell_type": "markdown",
   "metadata": {},
   "source": [
    "Planteamos las siguientes preguntas que esperamos que nuestro sistema de extracción de conocimiento sea capaz de resolver:\n",
    "1: ¿Qué ingredientes hacen falta para la receta? (Y una preguntas de este tipo por cada dimensión)\n",
    "2: ¿Contiene la receta carne?\n",
    "3: ¿Es difícil la receta?\n",
    "4: ¿Qué vinos se recomiendan para acompañar la receta? (Ejemplo sacado de las transparencias)\n",
    "… TODO: completar (ya lo haré yo cuando sepamos cómo se van a procesar estas preguntas después y cuando fijemos el dominio)\n",
    "\n",
    "Duda: ¿Es ésto lo que hay que hacer en esta sección?"
   ]
  },
  {
   "cell_type": "markdown",
   "metadata": {},
   "source": [
    "### Identificación de preguntas que satisfacen dimensiones ###"
   ]
  },
  {
   "cell_type": "markdown",
   "metadata": {},
   "source": [
    "-Como saber si la pregunta tiene sentido?\n",
    "-Como saber si es coherente?\n",
    "-Como saber si es demasiado concreta o general?\n",
    "\n",
    "La coherencia tiene que ver con la “cercanía” o compatibilidad de los\n",
    "conceptos (distancias grandes o distancias cortas)"
   ]
  },
  {
   "cell_type": "markdown",
   "metadata": {},
   "source": [
    "Nota: Punto 5 del enunciado de Slack. ¿A qué se refiere? ¿A los siguientes puntos de las transparencias?\n",
    "Asegurarse que la respuesta a las preguntas está en la tabla de dimensiones y sus valores\n",
    "Si hay alguna que no está complementar\n",
    "Y si se refiere a eso, ¿qué significa lo de complementar exactamente? Si alguien lo sabe podemos fabricar a propósito un caso en el que suceda. Pero yo no tengo ni idea, y probablemente no tenga más sentido que el resto de la asignatura, así que podemos dejarlo así\n",
    "\n",
    "Estudiamos a continuación las preguntas planteadas una a una para comprobar que satisfacen las dimensiones, es decir, que las dimensiones o conceptos de los que tratan las preguntas son un subconjunto de los que hemos obtenido previamente en la fase de análisis de dimensiones, y que por lo tanto las respuestas a esas preguntas pueden encontrarse en la tabla de dimensiones y valores.\n",
    "\n",
    "Pregunta nº 1: ¿Qué ingredientes hacen falta para la receta?\n",
    "\n",
    "En este caso se pregunta directamente por una de las dimensiones que consideramos en nuestro dominio, así que claramente es una pregunta válida\n",
    "\n",
    "Pregunta nº  2: ¿Contiene la receta carne?\n",
    "Esta pregunta no satisface las dimensiones, haría falta conocimiento explícito de que ingredientes son carne y cuáles no. En este caso habría que complementar.\n",
    "\n",
    "Duda: ¿Qué es eso de complementar? ¿Añadir la dimensión grupos alimenticios?\n",
    "\n",
    "Pregunta nº 3: Sí\n",
    "\n",
    "Pregunta nº 4: No\n",
    "\n",
    "Duda: ¿Es ésto lo que se pide?\n",
    "\n",
    "TODO: completar (ya lo hago yo, cuando se resuelva el TODO del apartado anterior, y cuándo esté claro qué hacer --ignacio)"
   ]
  },
  {
   "cell_type": "markdown",
   "metadata": {},
   "source": [
    "### Parafrasing de preguntas"
   ]
  },
  {
   "cell_type": "markdown",
   "metadata": {},
   "source": [
    "En una sistema real, donde las preguntas son formuladas en lenguaje natural, necesariamente los usuarios plantearán las preguntas de diferentes maneras, y ese sistema necesitará poder identificarlas todas. Para ello el sistema necesitará definir reglas, que dada una pregunta en lenguaje natural, permitan seleccionar la pregunta conceptual a la que corresponde en nuestro conjunto de preguntas tratables. El primer paso para hacerlo es, para cada pregunta, definir un conjunto de paráfrasis o formas alternativas de la pregunta, a partir de las cuales se puedan extrapolar las reglas buscadas. En esta sección proponemos algunas de esas paráfrasis para algunas de nuestras preguntas propuestas. Las reglas para identificarlas todas ellas como una misma pregunta se muestran en la sección ??"
   ]
  },
  {
   "cell_type": "markdown",
   "metadata": {},
   "source": [
    "#### Pregunta N1: ¿...?"
   ]
  },
  {
   "cell_type": "markdown",
   "metadata": {},
   "source": [
    "Pregunta: ¿Contiene la receta carne?\n",
    "Posibles paráfrasis:\n",
    "¿Hay carne en la receta?\n",
    "¿Es la receta vegetariana?\n",
    "…"
   ]
  },
  {
   "cell_type": "markdown",
   "metadata": {},
   "source": [
    "## Procesamiento de las preguntas"
   ]
  },
  {
   "cell_type": "markdown",
   "metadata": {},
   "source": [
    "Ya definidos el conjunto de preguntas que deseamos poder responder y las fuentes de información a partir de las cuales obtener las respuestas, nuestro siguiente paso será encontrar un método que nos permitan responder a las preguntas automáticamente."
   ]
  },
  {
   "cell_type": "markdown",
   "metadata": {},
   "source": [
    "En el caso general, lo que se necesita es construir un espacio de información a partir de las fuentes de información, siguiendo alguno de los modelos y representaciones propuestos en la literatura, representar la pregunta de acuerdo a ese modelo o representación, y hacer matching de ambos para encontrar la respuesta. En nuestro caso, habiendo limitado el conjunto de preguntas tratables por nuestro sistema, lo que haremos será más sencillo. Por un lado, definimos reglas para identificar una pregunta del usuario expresada en lenguaje natural como una de las preguntas tratables de nuestro conjunto. Por el otro, definiremos reglas para obtener la respuesta a cada una de nuestras preguntas tratables a partir de las fuentes de información."
   ]
  },
  {
   "cell_type": "markdown",
   "metadata": {},
   "source": [
    "En esta sección se detallan e implementan algunas las reglas para algunas de las preguntas, aunque por limitaciones obvias de tiempo y espacio no es posible tratarlas todas."
   ]
  },
  {
   "cell_type": "markdown",
   "metadata": {},
   "source": [
    "### Identificación de las preguntas"
   ]
  },
  {
   "cell_type": "markdown",
   "metadata": {},
   "source": [
    "En esta sección se detallan las reglas para identificar una pregunta en lenguaje natural como una pregunta conceptual tratable por nuestro sistema. Ésta es un tarea complicada en la que se requiere mucho esfuerzo y estudio detallado para llevarla a cabo con precisión, debido al número en principio no acotado de diferentes formas de formular las preguntas. Por ello sólo se llevará a cabo en nuestro sistema para un subconjunto limitado de nuestras preguntas, sólo lo del suficiente tamaño y con la variedad suficiente como para representar las distintas ideas y técnicas que se pueden utilizar para resolver el problema. A continuación se muestran las reglas para ese subconjunto de preguntas, y se expone cómo tratamos el resto de preguntas."
   ]
  },
  {
   "cell_type": "markdown",
   "metadata": {},
   "source": [
    "#### Pregunta N1: ¿...?"
   ]
  },
  {
   "cell_type": "markdown",
   "metadata": {},
   "source": []
  },
  {
   "cell_type": "markdown",
   "metadata": {},
   "source": [
    "#### Pregunta N2: ¿...?"
   ]
  },
  {
   "cell_type": "markdown",
   "metadata": {},
   "source": []
  },
  {
   "cell_type": "markdown",
   "metadata": {},
   "source": [
    "#### Pregunta N3: ¿...?"
   ]
  },
  {
   "cell_type": "markdown",
   "metadata": {},
   "source": []
  },
  {
   "cell_type": "markdown",
   "metadata": {},
   "source": [
    "#### Resto de preguntas"
   ]
  },
  {
   "cell_type": "markdown",
   "metadata": {},
   "source": [
    "Para el resto de preguntas, sugerimos el siguiente método."
   ]
  },
  {
   "cell_type": "markdown",
   "metadata": {},
   "source": [
    "Primero, implementaremos en nuestro sistema una asociación directa entre las paráfrasis de una pregunta que hemos propuesto en la sección ?? y dicha pregunta. Nótose que a pesar de su simplicidad, éste es un método completamente válido y que puede dar lugar a buenos resultados: en vez de inferir reglas generales para identificar un conjunto de preguntas como la misma, simplemente definir explicitamente ese conjunto. Aunque en principio las distintas formas de plantear una misma pregunta son practicamente ilimitadas, en la práctica y con usuarios reales probablemente no pasen de pocas decenas. Es por lo tanto factible realizar un estudio detallado de las distintas formas _realistas_ de definir la pregunta y guardar una tabla que las asocie con la pregunta conceptual en nuestro sistema. También es posible combinar ambos métodos, definiendo primero reglas generales, y tras evaluarlas definiendo reglas particulares y específicas para los casos en los que han resultado ser imprecisas. Eso es precisamente lo que hacemos para la paráfrasis incorrectamente clasificada del apartado anterior (**borrar si nos salen todas las reglas perfectas, o crear artificialmente la situación**). A continuación implementamos la tabla para nuestras preguntas y nuestras paráfrasis:"
   ]
  },
  {
   "cell_type": "code",
   "execution_count": null,
   "metadata": {},
   "outputs": [],
   "source": [
    "table = []\n",
    "\n",
    "# write table\n",
    "\n",
    "# write rule that just reads table"
   ]
  },
  {
   "cell_type": "markdown",
   "metadata": {},
   "source": [
    "Ejemplo:"
   ]
  },
  {
   "cell_type": "code",
   "execution_count": 6,
   "metadata": {},
   "outputs": [],
   "source": [
    "# Ejemplo"
   ]
  },
  {
   "cell_type": "markdown",
   "metadata": {},
   "source": [
    "Además de esto, añadimos un sistema de sugerencias _naive_, en el que si una pregunta no está en la tabla o no es clasificada siguiendo alguna de las reglas, se le sugiere al usuario a qué pregunta o preguntas podría corresponder. En el caso de que el usuario indique que en efecto se refería a una de las preguntas sugeridas, la nueva paráfrasis que ha usado el usuario se añade a la tabla anterior. De esta forma nuestro sistema aprende con el tiempo a medida que los usuarios lo utilizan."
   ]
  },
  {
   "cell_type": "markdown",
   "metadata": {},
   "source": [
    "El algoritmo de sugerencias que proponemos es muy sencillo, simplemente sugerimos las preguntas guardadas en nuestro sistema que tengan más palabras relevantes en común con la pregunta realizada por el usuario. Con relevantes nos referimos a que no tenemos en cuenta artículos, preposiciones, y similares, o ciertas palabras muy comunes. El sistema podría mejorarse con redes de términos que permitan identificar sinómimos y técnicas similares, pero eso queda fuera del ámbito de esta práctica. La implementación es la siguiente:"
   ]
  },
  {
   "cell_type": "code",
   "execution_count": 7,
   "metadata": {},
   "outputs": [],
   "source": [
    "# Implementación:"
   ]
  },
  {
   "cell_type": "markdown",
   "metadata": {},
   "source": [
    "Ejemplo:"
   ]
  },
  {
   "cell_type": "code",
   "execution_count": 9,
   "metadata": {},
   "outputs": [],
   "source": [
    "# Ejemplo"
   ]
  },
  {
   "cell_type": "markdown",
   "metadata": {},
   "source": [
    "#### Preguntas no tratables"
   ]
  },
  {
   "cell_type": "markdown",
   "metadata": {},
   "source": [
    "Por último, consideramos el caso en el que el usuarios realice una pregunta no tratable por nuestro sistema. Este caso se identifica cuando ninguna de nuestras reglas es aplicable y el sistema de sugerencias no encuentra preguntas con un número de palabras en común superior a un umbral mínimo y ninguna de las sugerencias propuestas satisface al usuario. En ese caso, nuestro sistema devuelve un simple mensaje de error."
   ]
  },
  {
   "cell_type": "code",
   "execution_count": null,
   "metadata": {},
   "outputs": [],
   "source": [
    "# Ejemplo"
   ]
  },
  {
   "cell_type": "markdown",
   "metadata": {},
   "source": [
    "### Obtención de las respuestas"
   ]
  },
  {
   "cell_type": "markdown",
   "metadata": {},
   "source": [
    "En esta sección se detallan las reglas para extraer de las fuentes de información las respuestas a las preguntas realizadas por el usuario. En el caso de textos no estructurados, puede llegar a ser muy complicado obtener estas reglas, siendo necesario aplicar técnicas complejas de ingeniería lingüística. Por suerte, nuestras fuentes de información, las recetas, son parcialmente estructuradas, y gran parte de la información puede ser muy sencilla de obtener, simplemente \"parseando\" las recetas para encontrar los valores de la dimensión buscada. Sin embargo, quedarán algunas dimensiones que entrarán en el primer caso y para las cuales obtener información puede ser muy complicado. De nuevo por limitaciones de tiempo y espacio, sólo esbozaremos algunas ideas para preguntas que tratan dichas dimensiones y nos centraremos en las preguntas que pueden responderse basándonos en la estructura conocida del texto.\n",
    "\n",
    "A continuación, mostramos las reglas para responder a algunas de nuestras preguntas:"
   ]
  },
  {
   "cell_type": "markdown",
   "metadata": {},
   "source": [
    "#### Pregunta N1: ¿...?"
   ]
  },
  {
   "cell_type": "markdown",
   "metadata": {},
   "source": [
    "Simple parsing"
   ]
  },
  {
   "cell_type": "markdown",
   "metadata": {},
   "source": [
    "#### Pregunta N2: ¿...?"
   ]
  },
  {
   "cell_type": "markdown",
   "metadata": {},
   "source": [
    "Simple parsing"
   ]
  },
  {
   "cell_type": "markdown",
   "metadata": {},
   "source": [
    "#### Pregunta N3: ¿...?"
   ]
  },
  {
   "cell_type": "markdown",
   "metadata": {},
   "source": [
    "secciones claramente diferenciables pero sin orden establecido"
   ]
  },
  {
   "cell_type": "markdown",
   "metadata": {},
   "source": [
    "#### Pregunta N4: ¿...?"
   ]
  },
  {
   "cell_type": "markdown",
   "metadata": {},
   "source": [
    "Glosarios"
   ]
  },
  {
   "cell_type": "markdown",
   "metadata": {},
   "source": [
    "## Demo"
   ]
  },
  {
   "cell_type": "markdown",
   "metadata": {},
   "source": [
    "Ejemplos"
   ]
  },
  {
   "cell_type": "markdown",
   "metadata": {},
   "source": [
    "## Evaluación"
   ]
  },
  {
   "cell_type": "markdown",
   "metadata": {},
   "source": [
    "Mismo que la sección anterior pero con los textos de validación\n",
    "\n",
    "Decir que algunas de nuestras reglas serían generalizables a otras recetas con distinta estructura"
   ]
  },
  {
   "cell_type": "code",
   "execution_count": null,
   "metadata": {},
   "outputs": [],
   "source": []
  }
 ],
 "metadata": {
  "kernelspec": {
   "display_name": "Python 3",
   "language": "python",
   "name": "python3"
  },
  "language_info": {
   "codemirror_mode": {
    "name": "ipython",
    "version": 3
   },
   "file_extension": ".py",
   "mimetype": "text/x-python",
   "name": "python",
   "nbconvert_exporter": "python",
   "pygments_lexer": "ipython3",
   "version": "3.6.9"
  }
 },
 "nbformat": 4,
 "nbformat_minor": 2
}
