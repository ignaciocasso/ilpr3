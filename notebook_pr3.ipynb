{
 "cells": [
  {
   "cell_type": "markdown",
   "metadata": {},
   "source": [
    "# Ingeniería Lingüística - Práctica 3"
   ]
  },
  {
   "cell_type": "markdown",
   "metadata": {},
   "source": [
    "Juan Antonio Carrillo Segura  \n",
    "Ignacio Casso San Román  \n",
    "Diego Pérez Sastre"
   ]
  },
  {
   "cell_type": "markdown",
   "metadata": {},
   "source": [
    "### Fuentes de información"
   ]
  },
  {
   "cell_type": "markdown",
   "metadata": {},
   "source": [
    "Cargamos las 2 recetas en las que nos basamos para diseñar nuestro sistema..."
   ]
  },
  {
   "cell_type": "code",
   "execution_count": 1,
   "metadata": {},
   "outputs": [
    {
     "name": "stdout",
     "output_type": "stream",
     "text": [
      "Espaguetis carbonara\n",
      "\n",
      "Los espaguetis a la carbonara es probablemente la forma más\n",
      "internacional de preparar esta pasta. La auténtica salsa carbonara de\n",
      "italia contiene yema de huevo, queso y bacon. No tiene nata,\n",
      "ingrediente que le solemos añadir en España. Incluso hay muchas\n",
      "versiones que tan solo contienen nata. Puedes hacerla así, si quieres\n",
      "pero aquí, haremos unos espaguetis a la carbonara auténticos. Y para\n",
      "ello, los ingredientes que necesitaremos serán:\n",
      "\n",
      "\n",
      "Ingredientes para 4 personas:\n",
      "\n",
      "400g de espagueti\n",
      "2 huevos\n",
      "150g de queso curado (parmesano, manchego…)\n",
      "120g de bacon o panceta\n",
      "sal y pimienta\n",
      "un pequeño chorrito de aceite de oliva\n",
      "\n",
      "\n",
      "COMO HACER ESPAGUETIS A LA CARBONARA:\n",
      "\n",
      "1.- Ponemos un puñadito de sal (generoso) en abundante agua\n",
      "hirviendo. Después añadimos los espagueti y los dejamos cocer aquí\n",
      "alrededor de 10 minutos. hasta que estén al «dente». Conviene\n",
      "removerlos con frecuencia sobre todo al principio de la cocción, para\n",
      "que no se peguen.\n",
      "\n",
      "2.- Mientras se cuecen preparamos la carbonara. En un bol añadimos las\n",
      "yemas de los huevos. La clara es mejor guardarla para otra elaboración\n",
      "ya que, si la añadimos, parecerá más una tortilla de espaguetis, que\n",
      "una salsa en sí. Pero si no te importa, puedes añadirla. Añadimos\n",
      "también el queso rallado y mezclamos ambos ingredientes con un\n",
      "tenedor. Quedará una especie de masa muy densa.\n",
      "\n",
      "3.- En una sartén ponemos un pequeño chorrito de aceite. Cuando esté\n",
      "bien caliente, añadimos el bacon o la panceta, cortado en dados más\n",
      "bien pequeños. Pasados un par de minutos, cuando estén fritos,\n",
      "retiramos del fuego y reservamos\n",
      "\n",
      "4.- Una vez hecho esto y cuando los espaguetis estén cocinados,\n",
      "guardamos unos cuantos cucharones del caldo de la cocción. Después\n",
      "escurrimos los espaguetis del resto del caldo\n",
      "\n",
      "5.- Sin demora, ya que será el propio calor residual de los espagueti\n",
      "los que vayan a cocinar la carbonara, echamos la pasta en el bol donde\n",
      "la habíamos preparado. Añadimos el bacon, con el juguito que hayan\n",
      "podido soltar y un poco del caldo de la cocción. Removemos todo bien\n",
      "con un tenedor para que los espaguetis absorban toda la salsa. Si ves\n",
      "que queda muy densa, puedes añadir más caldo de la cocción, hasta que\n",
      "haya quedado una salsa muy cremosa (no olvides remover enérgicamente\n",
      "todo. La pasta es muy porosa y absorbe las salsa con relativa\n",
      "facilidad. Pero necesita ser removido para ayudar a este proceso)\n",
      "\n",
      "6.- Finalmente, cuando hayamos conseguido la cremosidad de la salsa\n",
      "deseado, espolvorear con abundante pimienta negra recién molida. Se\n",
      "dice que el nombre «carbonara» viene del color que le da esta especia,\n",
      "que recuerda el color del carbón. Servir inmediatamente\n",
      "\n"
     ]
    }
   ],
   "source": [
    "spaghetti_recipe = open(\"recipes/for_design/espaguetis.txt\").read()\n",
    "print(spaghetti_recipe)"
   ]
  },
  {
   "cell_type": "code",
   "execution_count": 2,
   "metadata": {},
   "outputs": [
    {
     "name": "stdout",
     "output_type": "stream",
     "text": [
      "Pollo a la cerveza guisado\n",
      "\n",
      "Pollo a la cerveza guisado. Una receta con mucha personalidad. Es como\n",
      "el guisado convencional pero, utilizaremos cerveza como ingrediente\n",
      "principal de la salsa, en lugar de agua o de caldo de pollo. Además,\n",
      "para darle un toque «agridulce» y contrarrestar el sabor amargo de la\n",
      "cerveza, utilizaremos muchas verduras de sabor dulce, como la cebolla\n",
      "o la zanahoria. Aunque puedes utilizar las que más te gusten. Para\n",
      "preparar este pollo a la cerveza, puedes emplear la cerveza que más te\n",
      "gusta. Desde la típica rubia «pilsen» a cervezas tostadas, con más\n",
      "personalidad. O incluso y por qué no, cerveza negra. La receta más\n",
      "tradicional, utiliza una cerveza rubia, cuyos matices no exaltan\n",
      "demasiado a la hora de degustar el plato.\n",
      "\n",
      "\n",
      "Ingredientes para 4 personas:\n",
      "\n",
      "8 muslos de pollo o un pollo entero\n",
      "2 dientes de ajo\n",
      "2 cebollas\n",
      "4 zanahorias\n",
      "1 pimiento rojo\n",
      "tomillo y romero secos\n",
      "2 hojas de laurel\n",
      "1l de cerveza\n",
      "2 cucharas de harina\n",
      "Un puñadito de perejil fresco picado\n",
      "aceite de oliva\n",
      "sal y pimienta\n",
      "\n",
      "\n",
      "COMO HACER EL POLLO A LA CERVEZA GUISADO:\n",
      "\n",
      "1.- Si utilizamos un pollo entero, despiezamos las pechugas y los\n",
      "muslos. Si no, podemos utilizar directamente unos muslos de pollo y\n",
      "pasamos directamente al segundo paso (como yo he hecho).\n",
      "\n",
      "\n",
      "2.- En una ollita alta, ponemos un chorrito de aceite a calentar a\n",
      "fuego fuerte Cuando esté caliente añadimos el pollo y lo sellamos por\n",
      "todos sus lados. La idea, es dejar que coja color, pero dejándolo\n",
      "crudo en su interior. En total, unos 3 o 4 minutos de cocción. Pasado\n",
      "el tiempo, retiramos el pollo y lo reservamos en un plato.\n",
      "\n",
      "\n",
      "3.- En el mismo aceite donde hemos sellado el pollo, añadimos los\n",
      "dientes de ajo, las cebollas y el pimiento rojo. Estos ingredientes\n",
      "bien picados. Añadimos también las zanahorias pero, en este caso,\n",
      "cortadas en rodajas finas. Salpimentamos y removemos con frecuencia,\n",
      "mientras dejamos cocinar a fuego suave unos 15 minutos.\n",
      "\n",
      "4.- Pasado el tiempo y con la cebolla ya bien transparente y la\n",
      "zanahoria parcialmente cocinada, añadimos las dos cucharadas de\n",
      "harina. Esta harina, va a dar después a la salsa de nuestro pollo a la\n",
      "cerveza cierto «cuerpo». Seguirá siendo mayoritariamente líquida pero\n",
      "tendrá cierta consistencia, que «llamará» más al ojo e incitará más a\n",
      "untar con pan. Mezclamos todos los ingredientes e integramos la harina\n",
      "con la verdura. Dejamos cocinar 2 minutos más a fuego suave\n",
      "\n",
      "5.- Ahora, devolvemos el pollo a la olla. Introducimos también los\n",
      "jugos que haya podido soltar al plato. Añadimos el tomillo y el\n",
      "romero, las hojas de laurel y cubrimos todo con generosa cantidad de\n",
      "cerveza. Como decía, la gracia de este plato está en la cerveza. Y va\n",
      "a variar mucho del tipo que utilices. Cuanta más fuerte sea, más\n",
      "amargo va a quedar el plato. Puedes realizar esta receta varias veces,\n",
      "probando con diferentes tipos de cerveza. No obstante, si no te gusta\n",
      "la comida con demasiado sabor, comienza utilizando una cerveza\n",
      "rubia. Una normalita. Eso sí, por el alcohol no te preocupes. Se va a\n",
      "evaporar absolutamente todo en la cocción\n",
      "\n",
      "6.- Mezclamos e integramos bien todos los ingredientes con una cuchara\n",
      "y dejamos cocer a fuego suave unos 45-50 minutos, hasta que la salsa\n",
      "reduzca y espese, haya concentración de sabores y el pollo quede\n",
      "totalmente cocinado y tierno\n",
      "\n"
     ]
    }
   ],
   "source": [
    "chicken_recipe = open(\"recipes/for_design/pollo_cerveza.txt\").read()\n",
    "print(chicken_recipe)"
   ]
  },
  {
   "cell_type": "markdown",
   "metadata": {},
   "source": [
    "### Identificación de las preguntas"
   ]
  },
  {
   "cell_type": "code",
   "execution_count": 3,
   "metadata": {},
   "outputs": [],
   "source": [
    "parafrasis_table = {\n",
    "        \"¿Qué plato trata la receta?\":'get_title',\n",
    "        \"¿Cual es el plato que trata la receta?\":'get_title',\n",
    "        \"¿Cual es el nombre del plato?\":'get_title',\n",
    "        \n",
    "        \"¿Cuál es el tiempo de preparación del plato?\":'get_cooking_time',\n",
    "        \"¿Cuánto se tarda en preparar el plato?\":'get_cooking_time',\n",
    "        \"¿Cuál es la duración de la elaboración de la receta?\":'get_cooking_time',\n",
    "        \"¿Cuál es la duración de la elaboración de este plato?\":'get_cooking_time',\n",
    "    \n",
    "        \"¿Cuál es el origen geográfico de esta receta?\":'get_origin',\n",
    "        \"¿De dónde es originario este plato?\":'get_origin',\n",
    "        \"¿Cuál es el origen de esta elaboración?\":'get_origin',\n",
    "        \"¿Origen de la receta?\":'get_origin',\n",
    "        \"¿Procedencia de la receta?\":'get_origin',\n",
    "        \"¿Origen del plato?\":'get_origin',\n",
    "        \"¿Procedencia de esta elaboración?\":'get_origin',\n",
    "\n",
    "        \"¿Cuales son los ingredientes?\":\"get_ingredients\",\n",
    "        \"¿Que ingredientes se necesitan para preparar la receta?\":'get_ingredients',\n",
    "        \"¿Que ingredientes lleva?\":\"get_ingredients\",\n",
    "        \"¿Que ingredientes tiene la receta?\":\"get_ingredients\",\n",
    "        \"¿Que lleva la receta?\":\"get_ingredients\",\n",
    "        \"¿Que se necesita para preparar la receta?\": \"get_ingredients\",\n",
    "        \"¿Que necesito para cocinar la receta?\": \"get_ingredients\",\n",
    "    \n",
    "        \"¿Que utensilios de cocina son necesarios para preparar el plato?\":'get_needed_items',\n",
    "        \"¿Que utensilios de cocina hacen falta para preparar el plato?\":'get_needed_items',\n",
    "        \"¿Que instrumentos de cocina son necesarios para preparar el plato?\":'get_needed_items',\n",
    "        \"¿Que instrumentos de cocina hacen falta para preparar el plato?\":'get_needed_items',\n",
    "\n",
    "        \"¿Contiene carne la receta?\":'has_meat',\n",
    "        \"¿Contiene la receta carne?\":'has_meat',\n",
    "        \"¿Lleva carne el plato?\":'has_meat',\n",
    "        \"¿Hace falta carne para preparar la receta?\":'has_meat',\n",
    "\n",
    "        \"¿Cuánta harina hace falta para preparar la receta?\":'how_much_flower',\n",
    "        \"¿Cuánta harina hace falta para preparar el plato?\":'how_much_flower',\n",
    "        \"¿Cuánta harina hace falta para preparar la receta?\":'how_much_flower',\n",
    "        \"¿Cuánta harina hace falta para preparar la receta?\":'how_much_flower'\n",
    "    }\n",
    "\n",
    "#\n",
    "\n",
    "def identify_question_with_table(query):\n",
    "    if query in parafrasis_table:\n",
    "        return parafrasis_table[query]\n",
    "    else:\n",
    "        return 'unknown_question'\n",
    "\n",
    "def identify_question(query):\n",
    "    return identify_question_with_table(query)"
   ]
  },
  {
   "cell_type": "markdown",
   "metadata": {},
   "source": [
    "Ejemplo:"
   ]
  },
  {
   "cell_type": "code",
   "execution_count": 4,
   "metadata": {},
   "outputs": [
    {
     "data": {
      "text/plain": [
       "'get_title'"
      ]
     },
     "execution_count": 4,
     "metadata": {},
     "output_type": "execute_result"
    }
   ],
   "source": [
    "identify_question(\"¿Cual es el plato que trata la receta?\")"
   ]
  },
  {
   "cell_type": "code",
   "execution_count": 5,
   "metadata": {},
   "outputs": [
    {
     "data": {
      "text/plain": [
       "'get_ingredients'"
      ]
     },
     "execution_count": 5,
     "metadata": {},
     "output_type": "execute_result"
    }
   ],
   "source": [
    "identify_question(\"¿Que se necesita para preparar la receta?\")"
   ]
  },
  {
   "cell_type": "code",
   "execution_count": 6,
   "metadata": {},
   "outputs": [],
   "source": [
    "def get_words(s0):\n",
    "    s1 = s0.replace(\",\", \"\")\n",
    "    s2 = s1.replace(\".\", \"\")\n",
    "    # ...\n",
    "    return s2.split(' ')\n",
    "\n",
    "def suggest(query):\n",
    "    query_words = query.split(' ')\n",
    "    # TODO: remove uninformative words (e.g., prepositions)\n",
    "    parafrasis_list = [p for p in parafrasis_table]\n",
    "    number_common_words = [compute_number_common_words(query_words, p) for p in parafrasis_list]\n",
    "    l = list(zip(number_common_words, parafrasis_list))\n",
    "    l.sort(reverse=True)\n",
    "    for (n, parafrasis) in l:\n",
    "        if n < 2:\n",
    "            break\n",
    "        else:\n",
    "            accepted = suggest_parafrasis(parafrasis)\n",
    "            if accepted:\n",
    "                question = parafrasis_table[parafrasis]\n",
    "                parafrasis_table[query] = question\n",
    "                return question\n",
    "    \n",
    "    return 'unknown_question'\n",
    "\n",
    "\n",
    "frequent_words = [\n",
    "    # artículos y pronombres\n",
    "    \"el\",\n",
    "    \"la\",\n",
    "    # ...\n",
    "    # preposiciones\n",
    "    \"para\",\n",
    "    # ...\n",
    "    # palabras habituales del dominio\n",
    "    \"plato\",\n",
    "    \"receta\"\n",
    "    # ...\n",
    "]\n",
    "\n",
    "\n",
    "def compute_number_common_words(query_words, parafrasis):\n",
    "    parafrasis_words = get_words(parafrasis)\n",
    "    common_words = [w for w in query_words if (w in parafrasis_words and not w in frequent_words)] \n",
    "    return len(common_words)\n",
    "\n",
    "def suggest_parafrasis(parafrasis):\n",
    "    print(\"¿Es su pregunta equivalente a la siguiente?\")\n",
    "    print(parafrasis)\n",
    "    print(\"Respuesta (s/n):\")\n",
    "    answer = input()\n",
    "    return answer == 's'\n",
    "\n",
    "def identify_question(query):\n",
    "    q = identify_question_with_table(query)\n",
    "    if q == 'unknown_question':\n",
    "        return suggest(query)\n",
    "    else:\n",
    "        return q"
   ]
  },
  {
   "cell_type": "markdown",
   "metadata": {},
   "source": [
    "Ejemplo:"
   ]
  },
  {
   "cell_type": "code",
   "execution_count": 7,
   "metadata": {},
   "outputs": [
    {
     "name": "stdout",
     "output_type": "stream",
     "text": [
      "¿Es su pregunta equivalente a la siguiente?\n",
      "¿Cual es el plato que trata la receta?\n",
      "Respuesta (s/n):\n",
      "\n",
      "¿Es su pregunta equivalente a la siguiente?\n",
      "¿Qué plato trata la receta?\n",
      "Respuesta (s/n):\n",
      "s\n"
     ]
    },
    {
     "data": {
      "text/plain": [
       "'get_title'"
      ]
     },
     "execution_count": 7,
     "metadata": {},
     "output_type": "execute_result"
    }
   ],
   "source": [
    "identify_question(\"¿Qué plato es el que trata la receta?\")"
   ]
  },
  {
   "cell_type": "code",
   "execution_count": 8,
   "metadata": {},
   "outputs": [
    {
     "data": {
      "text/plain": [
       "'get_title'"
      ]
     },
     "execution_count": 8,
     "metadata": {},
     "output_type": "execute_result"
    }
   ],
   "source": [
    "identify_question(\"¿Qué plato es el que trata la receta?\")"
   ]
  },
  {
   "cell_type": "markdown",
   "metadata": {},
   "source": [
    "### Obtención de las respuestas"
   ]
  },
  {
   "cell_type": "markdown",
   "metadata": {},
   "source": [
    "#### Nombre del plato"
   ]
  },
  {
   "cell_type": "code",
   "execution_count": 9,
   "metadata": {},
   "outputs": [],
   "source": [
    "def get_recipe_title(recipe):\n",
    "    return recipe.partition('\\n')[0]"
   ]
  },
  {
   "cell_type": "code",
   "execution_count": 10,
   "metadata": {},
   "outputs": [
    {
     "data": {
      "text/plain": [
       "'Pollo a la cerveza guisado'"
      ]
     },
     "execution_count": 10,
     "metadata": {},
     "output_type": "execute_result"
    }
   ],
   "source": [
    "get_recipe_title(chicken_recipe)"
   ]
  },
  {
   "cell_type": "code",
   "execution_count": 11,
   "metadata": {},
   "outputs": [
    {
     "data": {
      "text/plain": [
       "'Espaguetis carbonara'"
      ]
     },
     "execution_count": 11,
     "metadata": {},
     "output_type": "execute_result"
    }
   ],
   "source": [
    "get_recipe_title(spaghetti_recipe)"
   ]
  },
  {
   "cell_type": "markdown",
   "metadata": {},
   "source": [
    "#### Ingredientes necesarios"
   ]
  },
  {
   "cell_type": "code",
   "execution_count": 12,
   "metadata": {},
   "outputs": [],
   "source": [
    "def get_recipe_ingredients(recipe):\n",
    "    rows = recipe.split('\\n')\n",
    "    \n",
    "    blank = 0\n",
    "    saving = False\n",
    "    res = []\n",
    "    while rows:\n",
    "        elem = rows.pop(0)\n",
    "        if elem.lower().startswith(\"ingredientes\"):\n",
    "            saving = True\n",
    "\n",
    "        if saving:\n",
    "            if elem == \"\":\n",
    "                blank+=1\n",
    "            if blank >= 2:\n",
    "                break\n",
    "            res.append(elem)\n",
    "    return res"
   ]
  },
  {
   "cell_type": "code",
   "execution_count": 13,
   "metadata": {},
   "outputs": [
    {
     "data": {
      "text/plain": [
       "['Ingredientes para 4 personas:',\n",
       " '',\n",
       " '400g de espagueti',\n",
       " '2 huevos',\n",
       " '150g de queso curado (parmesano, manchego…)',\n",
       " '120g de bacon o panceta',\n",
       " 'sal y pimienta',\n",
       " 'un pequeño chorrito de aceite de oliva']"
      ]
     },
     "execution_count": 13,
     "metadata": {},
     "output_type": "execute_result"
    }
   ],
   "source": [
    "get_recipe_ingredients(spaghetti_recipe)"
   ]
  },
  {
   "cell_type": "code",
   "execution_count": 14,
   "metadata": {},
   "outputs": [
    {
     "data": {
      "text/plain": [
       "['Ingredientes para 4 personas:',\n",
       " '',\n",
       " '8 muslos de pollo o un pollo entero',\n",
       " '2 dientes de ajo',\n",
       " '2 cebollas',\n",
       " '4 zanahorias',\n",
       " '1 pimiento rojo',\n",
       " 'tomillo y romero secos',\n",
       " '2 hojas de laurel',\n",
       " '1l de cerveza',\n",
       " '2 cucharas de harina',\n",
       " 'Un puñadito de perejil fresco picado',\n",
       " 'aceite de oliva',\n",
       " 'sal y pimienta']"
      ]
     },
     "execution_count": 14,
     "metadata": {},
     "output_type": "execute_result"
    }
   ],
   "source": [
    "get_recipe_ingredients(chicken_recipe)"
   ]
  },
  {
   "cell_type": "markdown",
   "metadata": {},
   "source": [
    "#### Utensilios necesarios"
   ]
  },
  {
   "cell_type": "code",
   "execution_count": 15,
   "metadata": {},
   "outputs": [],
   "source": [
    "tools_glosary = {\n",
    "    \"sartén\":[\"sartén\",\"freir\",\"saltear\"],\n",
    "    \"horno\":[\"horno\",\"asar\",\"hornear\"],\n",
    "    \"cazuela\":[\"cazuela\",\"hervir\"],\n",
    "    \"batidora\":[\"batidora\", \"batir\"]\n",
    "}\n",
    "# TODO: conjungaciones de los verbos\n",
    "\n",
    "def get_recipe_needed_items(recipe):\n",
    "    recipe_words = get_words(recipe)\n",
    "    return [item for item in tools_glosary if needed_item(item, recipe_words)]\n",
    "\n",
    "def needed_item(item, recipe_words):\n",
    "    matching_glosary_words = [w for w in tools_glosary[item] if w in recipe_words]\n",
    "    return not matching_glosary_words == []"
   ]
  },
  {
   "cell_type": "code",
   "execution_count": 16,
   "metadata": {},
   "outputs": [
    {
     "data": {
      "text/plain": [
       "[]"
      ]
     },
     "execution_count": 16,
     "metadata": {},
     "output_type": "execute_result"
    }
   ],
   "source": [
    "get_recipe_needed_items(chicken_recipe)"
   ]
  },
  {
   "cell_type": "code",
   "execution_count": 17,
   "metadata": {},
   "outputs": [
    {
     "data": {
      "text/plain": [
       "['sartén']"
      ]
     },
     "execution_count": 17,
     "metadata": {},
     "output_type": "execute_result"
    }
   ],
   "source": [
    "get_recipe_needed_items(spaghetti_recipe)"
   ]
  },
  {
   "cell_type": "markdown",
   "metadata": {},
   "source": [
    "#### ¿Contiene la receta carne?"
   ]
  },
  {
   "cell_type": "code",
   "execution_count": 18,
   "metadata": {},
   "outputs": [],
   "source": [
    "meat_glossary = [\n",
    "    \"pollo\",\n",
    "    \"carne\",\n",
    "    \"solomillo\",\n",
    "    \"ternera\",\n",
    "    \"cerdo\"\n",
    "    # ...\n",
    "]\n",
    "\n",
    "\n",
    "def contains_meat_recipe(recipe):\n",
    "    ingredients = get_recipe_ingredients(recipe)\n",
    "    ingredient_words = [w for ing in ingredients for w in ing.split(' ')]\n",
    "    meat_related_words = [w for w in ingredient_words if w in meat_glossary]\n",
    "    if meat_related_words == []:\n",
    "        return \"no\"\n",
    "    else:\n",
    "        return \"yes\""
   ]
  },
  {
   "cell_type": "code",
   "execution_count": 19,
   "metadata": {},
   "outputs": [
    {
     "data": {
      "text/plain": [
       "'yes'"
      ]
     },
     "execution_count": 19,
     "metadata": {},
     "output_type": "execute_result"
    }
   ],
   "source": [
    "contains_meat_recipe(chicken_recipe)"
   ]
  },
  {
   "cell_type": "code",
   "execution_count": 20,
   "metadata": {},
   "outputs": [
    {
     "data": {
      "text/plain": [
       "'no'"
      ]
     },
     "execution_count": 20,
     "metadata": {},
     "output_type": "execute_result"
    }
   ],
   "source": [
    "contains_meat_recipe(spaghetti_recipe)"
   ]
  },
  {
   "cell_type": "markdown",
   "metadata": {},
   "source": [
    "#### ¿Cuánta harina hace falta?"
   ]
  },
  {
   "cell_type": "code",
   "execution_count": 21,
   "metadata": {},
   "outputs": [],
   "source": [
    "def how_much_flower_needed(recipe):\n",
    "    ingredients = get_recipe_ingredients(recipe)\n",
    "    for ing in ingredients:\n",
    "        words = ing.split(' ')\n",
    "        if words[-1]==\"harina\":\n",
    "            return words[0] + \" \" + words[1]\n",
    "    return \"No hace falta harina para esta receta\""
   ]
  },
  {
   "cell_type": "code",
   "execution_count": 22,
   "metadata": {},
   "outputs": [
    {
     "data": {
      "text/plain": [
       "'2 cucharas'"
      ]
     },
     "execution_count": 22,
     "metadata": {},
     "output_type": "execute_result"
    }
   ],
   "source": [
    "how_much_flower_needed(chicken_recipe)"
   ]
  },
  {
   "cell_type": "code",
   "execution_count": 23,
   "metadata": {},
   "outputs": [
    {
     "data": {
      "text/plain": [
       "'No hace falta harina para esta receta'"
      ]
     },
     "execution_count": 23,
     "metadata": {},
     "output_type": "execute_result"
    }
   ],
   "source": [
    "how_much_flower_needed(spaghetti_recipe)"
   ]
  },
  {
   "cell_type": "markdown",
   "metadata": {},
   "source": [
    "### Juntando las piezas"
   ]
  },
  {
   "cell_type": "code",
   "execution_count": 24,
   "metadata": {},
   "outputs": [],
   "source": [
    "def process_unknown_question(recipe):\n",
    "    print(\"The system does not understand the provided query\")\n",
    "\n",
    "answer_functions = {\n",
    "    'get_title':get_recipe_title,\n",
    "    'get_ingredients':get_recipe_ingredients,\n",
    "    'get_needed_items':get_recipe_needed_items,\n",
    "    'has_meat':contains_meat_recipe,\n",
    "    'how_much_flower':how_much_flower_needed,\n",
    "    \"unknown_question\":process_unknown_question\n",
    "}\n",
    "\n",
    "def answer_question(question, recipe):\n",
    "    func = answer_functions[question]\n",
    "    return func(recipe)"
   ]
  },
  {
   "cell_type": "code",
   "execution_count": 25,
   "metadata": {},
   "outputs": [],
   "source": [
    "def answer_query(query, recipe):\n",
    "    question = identify_question(query)\n",
    "    return answer_question(question, recipe)"
   ]
  },
  {
   "cell_type": "markdown",
   "metadata": {},
   "source": [
    "### Validación"
   ]
  },
  {
   "cell_type": "markdown",
   "metadata": {},
   "source": [
    "#### Recetas para la validación"
   ]
  },
  {
   "cell_type": "markdown",
   "metadata": {},
   "source": [
    "Cargamos la receta de validación del sistema."
   ]
  },
  {
   "cell_type": "code",
   "execution_count": 26,
   "metadata": {},
   "outputs": [
    {
     "name": "stdout",
     "output_type": "stream",
     "text": [
      "Arroz con leche\n",
      "\n",
      "El arroz con leche es el postre por antonomasia de los hogares de toda\n",
      "España y América latina. Hay recetas más modernas a las cuales se les\n",
      "añade nata, para que quede más cremoso. No obstante, el arroz con\n",
      "leche tradicional ya es un postre bastante cremoso de por sí, por lo\n",
      "cual y según el chef vitoriano, Gorka Barredo, «no es necesario\n",
      "añadirle ningún aditivo que aumente más su cremosidad. Para lograr\n",
      "esta cremosidad, utilizaremos el mismo almidón del arroz, que hará la\n",
      "función de ligado de ingredientes». Para preparar este popular y\n",
      "cremoso postre, necesitaremos:\n",
      "\n",
      "\n",
      "Ingredientes para 4 personas:\n",
      "\n",
      "    100g de arroz redondo\n",
      "    1l de leche entera\n",
      "    1 trozo de cáscara de limón y de naranja\n",
      "    1 rama de canela\n",
      "    canela en polvo\n",
      "    70g de azúcar\n",
      "    10g de mantequilla\n",
      "\n",
      "\n",
      "COMO HACER ARROZ CON LECHE CASERO FACIL:\n",
      "\n",
      "1.- En una olla o cazuela, ponemos la leche, el arroz, las cáscaras de\n",
      "los cítricos y la rama de canela. Calentamos a fuego medio mientras no\n",
      "dejamos de remover\n",
      "\n",
      "2.- Cuando esté caliente, pero que no llegue a ebullición, pues la\n",
      "leche pasados los 95-100ºC se quema y coge un regusto muy\n",
      "desagradable, dejamos cocer. Removemos cada cinco minutos, para\n",
      "asegurarnos que el arroz con leche no se pegue y para liberar el\n",
      "almidón. Así nos quedará más cremoso. Recuerda que no debe llegar a\n",
      "hervir a borbotones fuertes en ningún momento\n",
      "\n",
      "3.- Pasados unos 45 minutos, cuando el grano esté casi hecho –\n",
      "recuerda remover cada 5 minutos – añadimos el azúcar. Dejamos cocinar\n",
      "10 minutos más, hasta que el arroz ahora sí que sí, esté bien blando\n",
      "\n",
      "4.- Apagamos el fuego y añadimos la mantequilla. Quitamos las cáscaras\n",
      "y la canela en rama y mezclamos bien. Dejamos templar. Sigue mezclando\n",
      "de vez en cuando mientras lo dejes templar, para que no salga costra\n",
      "por la superficie\n",
      "\n",
      "5.- Cuando haya templado algo, ponemos el arroz con leche en cuencos\n",
      "individuales. Puedes decorar con un trocito de la rama de canela que\n",
      "usaste para infusionar. Espolvorea encima un poco de canela molida,\n",
      "para darle el toque final\n",
      "\n"
     ]
    }
   ],
   "source": [
    "rice_pudding_recipe = open(\"recipes/for_validation/arroz_con_leche.txt\").read()\n",
    "print(rice_pudding_recipe)"
   ]
  },
  {
   "cell_type": "markdown",
   "metadata": {},
   "source": [
    "#### Preguntas de validación"
   ]
  },
  {
   "cell_type": "markdown",
   "metadata": {},
   "source": [
    "Hacemos alguna pregunta al sistema sobre estas recetas para validarlo..."
   ]
  },
  {
   "cell_type": "code",
   "execution_count": 27,
   "metadata": {},
   "outputs": [
    {
     "data": {
      "text/plain": [
       "'Arroz con leche'"
      ]
     },
     "execution_count": 27,
     "metadata": {},
     "output_type": "execute_result"
    }
   ],
   "source": [
    "answer_query(\"¿Cual es el nombre del plato?\", rice_pudding_recipe)"
   ]
  },
  {
   "cell_type": "code",
   "execution_count": 28,
   "metadata": {},
   "outputs": [
    {
     "data": {
      "text/plain": [
       "['Ingredientes para 4 personas:',\n",
       " '',\n",
       " '    100g de arroz redondo',\n",
       " '    1l de leche entera',\n",
       " '    1 trozo de cáscara de limón y de naranja',\n",
       " '    1 rama de canela',\n",
       " '    canela en polvo',\n",
       " '    70g de azúcar',\n",
       " '    10g de mantequilla']"
      ]
     },
     "execution_count": 28,
     "metadata": {},
     "output_type": "execute_result"
    }
   ],
   "source": [
    "answer_query(\"¿Que ingredientes se necesitan para preparar la receta?\", rice_pudding_recipe)"
   ]
  },
  {
   "cell_type": "code",
   "execution_count": 29,
   "metadata": {},
   "outputs": [
    {
     "name": "stdout",
     "output_type": "stream",
     "text": [
      "¿Es su pregunta equivalente a la siguiente?\n",
      "¿Que utensilios de cocina son necesarios para preparar el plato?\n",
      "Respuesta (s/n):\n",
      "s\n"
     ]
    },
    {
     "data": {
      "text/plain": [
       "['cazuela']"
      ]
     },
     "execution_count": 29,
     "metadata": {},
     "output_type": "execute_result"
    }
   ],
   "source": [
    "answer_query(\"¿Que utensilios de cocina se necesitan para preparar la receta?\", rice_pudding_recipe)"
   ]
  },
  {
   "cell_type": "code",
   "execution_count": 30,
   "metadata": {},
   "outputs": [
    {
     "data": {
      "text/plain": [
       "'no'"
      ]
     },
     "execution_count": 30,
     "metadata": {},
     "output_type": "execute_result"
    }
   ],
   "source": [
    "answer_query(\"¿Lleva carne el plato?\", rice_pudding_recipe)"
   ]
  },
  {
   "cell_type": "code",
   "execution_count": 31,
   "metadata": {},
   "outputs": [
    {
     "name": "stdout",
     "output_type": "stream",
     "text": [
      "¿Es su pregunta equivalente a la siguiente?\n",
      "¿Cuánta harina hace falta para preparar la receta?\n",
      "Respuesta (s/n):\n",
      "s\n"
     ]
    },
    {
     "data": {
      "text/plain": [
       "'No hace falta harina para esta receta'"
      ]
     },
     "execution_count": 31,
     "metadata": {},
     "output_type": "execute_result"
    }
   ],
   "source": [
    "answer_query(\"¿Cuánta harina necesito para preparar la receta?\", rice_pudding_recipe)"
   ]
  }
 ],
 "metadata": {
  "kernelspec": {
   "display_name": "Python 3",
   "language": "python",
   "name": "python3"
  },
  "language_info": {
   "codemirror_mode": {
    "name": "ipython",
    "version": 3
   },
   "file_extension": ".py",
   "mimetype": "text/x-python",
   "name": "python",
   "nbconvert_exporter": "python",
   "pygments_lexer": "ipython3",
   "version": "3.6.9"
  }
 },
 "nbformat": 4,
 "nbformat_minor": 2
}
