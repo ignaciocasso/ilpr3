{
 "cells": [
  {
   "cell_type": "markdown",
   "metadata": {},
   "source": [
    "# Ingeniería Lingüística - Práctica 3"
   ]
  },
  {
   "cell_type": "markdown",
   "metadata": {},
   "source": [
    "Juan Antonio Carrillo Segura  \n",
    "Ignacio Casso San Román  \n",
    "Diego Pérez Sastre"
   ]
  },
  {
   "cell_type": "code",
   "execution_count": null,
   "metadata": {},
   "outputs": [],
   "source": [
    "recipe = open(\"recipes/for_design/brownie_mandarina.txt\").read()"
   ]
  },
  {
   "cell_type": "code",
   "execution_count": null,
   "metadata": {},
   "outputs": [],
   "source": [
    "parafrasis_table = { # TODO:\n",
    "        #pregunta N1\n",
    "        \"¿Qué plato trata la receta?\":'get_title',\n",
    "        \"¿Cual es el plato que trata la receta?\":'get_title',\n",
    "        \"parafrasisN1\":'get_title',\n",
    "        # ...\n",
    "        \"parafrasisNM\":'get_title',\n",
    "    \n",
    "        # ...\n",
    "        \n",
    "        #pregunta Ingredientes\n",
    "        \"¿Cuales son los ingredientes?\":\"get_ingredients\",\n",
    "        \"¿Que ingredientes lleva?\":\"get_ingredients\",\n",
    "        \"¿Que ingredientes tiene la receta?\":\"get_ingredients\",\n",
    "        \"¿Que lleva la receta?\":\"get_ingredients\",\n",
    "        \"¿Que se necesita para preparar la receta?\": \"get_ingredients\",\n",
    "        \"¿Que necesito para cocinar la receta?\": \"get_ingredients\",\n",
    "    \n",
    "        #pregunta N1\n",
    "        \"parafrasisN1\":\"preguntaN\",\n",
    "        # ...\n",
    "        \"parafrasisNM\":\"preguntaN\"\n",
    "    }\n",
    "\n",
    "#\n",
    "\n",
    "def identify_question_with_table(query):\n",
    "    if query in parafrasis_table:\n",
    "        return parafrasis_table[query]\n",
    "    # elif is_question_Id(query):\n",
    "        # return id\n",
    "    else:\n",
    "        return 'unknown_question'\n",
    "# write rule that just reads table\n",
    "\n",
    "def identify_question(query):\n",
    "    return identify_question_with_table(query)"
   ]
  },
  {
   "cell_type": "markdown",
   "metadata": {},
   "source": [
    "Ejemplo:"
   ]
  },
  {
   "cell_type": "code",
   "execution_count": null,
   "metadata": {},
   "outputs": [],
   "source": [
    "identify_question(\"¿Cual es el plato que trata la receta?\")"
   ]
  },
  {
   "cell_type": "code",
   "execution_count": null,
   "metadata": {},
   "outputs": [],
   "source": [
    "identify_question(\"¿Que se necesita para preparar la receta?\")"
   ]
  },
  {
   "cell_type": "code",
   "execution_count": null,
   "metadata": {},
   "outputs": [],
   "source": [
    "def suggest(query):\n",
    "    query_words = query.split(' ')\n",
    "    # TODO: remove uninformative words (e.g., prepositions)\n",
    "    parafrasis_list = [p for p in parafrasis_table]\n",
    "    number_common_words = [compute_number_common_words(query_words, p) for p in parafrasis_list]\n",
    "    l = list(zip(number_common_words, parafrasis_list))\n",
    "    l.sort(reverse=True)\n",
    "    for (n, parafrasis) in l:\n",
    "        if n < 2:\n",
    "            break\n",
    "        else:\n",
    "            accepted = suggest_parafrasis(parafrasis)\n",
    "            if accepted:\n",
    "                question = parafrasis_table[parafrasis]\n",
    "                parafrasis_table[query] = question\n",
    "                return question\n",
    "    \n",
    "    return 'unknown_question'\n",
    "\n",
    "def compute_number_common_words(query_words, parafrasis):\n",
    "    parafrasis_words = parafrasis.split(' ')\n",
    "    common_words = [w for w in query_words if w in parafrasis_words] \n",
    "    return len(common_words)\n",
    "\n",
    "def suggest_parafrasis(parafrasis):\n",
    "    print(\"¿Es su pregunta equivalente a la siguiente?\")\n",
    "    print(parafrasis)\n",
    "    print(\"Respuesta (s/n):\")\n",
    "    answer = input()\n",
    "    return answer == 's'\n",
    "\n",
    "def identify_question(query):\n",
    "    q = identify_question_with_table(query)\n",
    "    if q == 'unknown_question':\n",
    "        return suggest(query)\n",
    "    else:\n",
    "        return q"
   ]
  },
  {
   "cell_type": "markdown",
   "metadata": {},
   "source": [
    "Ejemplo:"
   ]
  },
  {
   "cell_type": "code",
   "execution_count": null,
   "metadata": {},
   "outputs": [],
   "source": [
    "identify_question(\"¿Qué plato es el que trata la receta?\")"
   ]
  },
  {
   "cell_type": "code",
   "execution_count": null,
   "metadata": {},
   "outputs": [],
   "source": [
    "def get_recipe_title(recipe):\n",
    "    return recipe.partition('\\n')[0]"
   ]
  },
  {
   "cell_type": "code",
   "execution_count": null,
   "metadata": {},
   "outputs": [],
   "source": [
    "get_recipe_title(recipe)"
   ]
  },
  {
   "cell_type": "code",
   "execution_count": null,
   "metadata": {},
   "outputs": [],
   "source": [
    "def get_recipe_ingredients(recipe):\n",
    "    rows = recipe.split('\\n')\n",
    "    \n",
    "    blank = 0\n",
    "    saving = False\n",
    "    res = []\n",
    "    while rows:\n",
    "        elem = rows.pop(0)\n",
    "        if elem.lower().startswith(\"ingredientes:\"):\n",
    "            saving = True\n",
    "\n",
    "        if saving:\n",
    "            if elem == \"\":\n",
    "                blank+=1\n",
    "            if blank >= 2:\n",
    "                break\n",
    "            res.append(elem)\n",
    "    return res"
   ]
  },
  {
   "cell_type": "code",
   "execution_count": null,
   "metadata": {},
   "outputs": [],
   "source": [
    "get_recipe_ingredients(recipe):"
   ]
  },
  {
   "cell_type": "code",
   "execution_count": null,
   "metadata": {},
   "outputs": [],
   "source": [
    "tools_glosary = {\n",
    "    \"sartén\":[\"sartén\",\"freir\",\"saltear\"],\n",
    "    \"horno\":[\"horno\",\"asar\",\"hornear\"],\n",
    "    \"cazuela\":[\"cazuela\",\"hervir\"],\n",
    "    \"batidora\":[\"batidora\", \"batir\"]\n",
    "}\n",
    "# TODO: conjungaciones de los verbos\n",
    "\n",
    "def get_needed_items(recipe):\n",
    "    recipe_words = recipe.split(' ')\n",
    "    return [item for item in tools_glosary if needed_item(item, recipe_words)]\n",
    "\n",
    "def needed_item(item, recipe_words):\n",
    "    matching_glosary_words = [w for w in tools_glosary[item] if w in recipe_words]\n",
    "    return not matching_glosary_words == []"
   ]
  },
  {
   "cell_type": "code",
   "execution_count": null,
   "metadata": {},
   "outputs": [],
   "source": [
    "get_needed_items(recipe)"
   ]
  },
  {
   "cell_type": "code",
   "execution_count": null,
   "metadata": {},
   "outputs": [],
   "source": [
    "def process_unknown_question(recipe):\n",
    "    print(\"The system does not understand the provided query\")\n",
    "\n",
    "answer_functions = {\n",
    "    \"get_title\":get_recipe_title,\n",
    "    # TODO: fill this\n",
    "    \"unknown_question\":process_unknown_question\n",
    "}\n",
    "\n",
    "def answer_question(question, recipe):\n",
    "    func = answer_functions[question]\n",
    "    return func(recipe)"
   ]
  },
  {
   "cell_type": "code",
   "execution_count": null,
   "metadata": {},
   "outputs": [],
   "source": [
    "def answer_query(query, recipe):\n",
    "    question = identify_question(query)\n",
    "    return answer_question(question, recipe)"
   ]
  },
  {
   "cell_type": "markdown",
   "metadata": {},
   "source": [
    "#### Ejemplos"
   ]
  },
  {
   "cell_type": "code",
   "execution_count": null,
   "metadata": {},
   "outputs": [],
   "source": [
    "recipe = open(\"recipes/for_design/brownie_mandarina.txt\").read()"
   ]
  },
  {
   "cell_type": "code",
   "execution_count": null,
   "metadata": {},
   "outputs": [],
   "source": [
    "answer_query(\"¿Qué plato trata la receta?\", recipe)"
   ]
  },
  {
   "cell_type": "code",
   "execution_count": null,
   "metadata": {},
   "outputs": [],
   "source": [
    "answer_query(\"¿Que se necesita para preparar la receta?\", recipe)"
   ]
  },
  {
   "cell_type": "markdown",
   "metadata": {},
   "source": [
    "**TODO:** Más ejemplos, a medida que se vayan implementando"
   ]
  },
  {
   "cell_type": "code",
   "execution_count": null,
   "metadata": {},
   "outputs": [],
   "source": [
    "answer_query(\"Pregunta absurda\", recipe)"
   ]
  }
 ],
 "metadata": {
  "kernelspec": {
   "display_name": "Python 3",
   "language": "python",
   "name": "python3"
  },
  "language_info": {
   "codemirror_mode": {
    "name": "ipython",
    "version": 3
   },
   "file_extension": ".py",
   "mimetype": "text/x-python",
   "name": "python",
   "nbconvert_exporter": "python",
   "pygments_lexer": "ipython3",
   "version": "3.6.9"
  }
 },
 "nbformat": 4,
 "nbformat_minor": 2
}
